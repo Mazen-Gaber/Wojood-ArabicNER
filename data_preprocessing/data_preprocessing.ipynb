{
  "cells": [
    {
      "cell_type": "code",
      "execution_count": 5,
      "metadata": {},
      "outputs": [],
      "source": [
        "from collections import Counter\n",
        "import matplotlib.pyplot as plt\n",
        "import plotly.express as px\n",
        "from wordcloud import WordCloud\n",
        "import seaborn as sns\n",
        "import numpy as np\n",
        "import pyarabic.araby as araby\n",
        "import pyarabic.number as number\n",
        "import nltk\n",
        "from nltk.stem.isri import ISRIStemmer\n",
        "import re\n",
        "import string\n",
        "from farasa.stemmer import FarasaStemmer\n",
        "from nltk.stem import ISRIStemmer\n"
      ]
    },
    {
      "cell_type": "markdown",
      "metadata": {},
      "source": [
        "# Data Preparing"
      ]
    },
    {
      "cell_type": "code",
      "execution_count": 1,
      "metadata": {
        "colab": {
          "base_uri": "https://localhost:8080/"
        },
        "id": "mcWgyAnTz-7r",
        "outputId": "915f2859-efb6-4d0e-ce1a-115c8831dce4"
      },
      "outputs": [
        {
          "name": "stdout",
          "output_type": "stream",
          "text": [
            "Text file saved at: corpus_with_labels.txt\n"
          ]
        }
      ],
      "source": [
        "def extract_tokens_and_labels_from_conll(file_path):\n",
        "    tokens_labels = []\n",
        "    with open(file_path, 'r', encoding='utf-8') as file:\n",
        "        for line in file:\n",
        "            if line.strip():\n",
        "                parts = line.split()\n",
        "                if len(parts) > 1:\n",
        "                    token = parts[0]\n",
        "                    label = parts[-1]\n",
        "                    tokens_labels.append((token, label))\n",
        "    return tokens_labels\n",
        "\n",
        "file_path = \"split70.conll\"\n",
        "tokens_labels = extract_tokens_and_labels_from_conll(file_path)\n",
        "\n",
        "output_file_path = \"corpus_with_labels.txt\"\n",
        "with open(output_file_path, mode='w', encoding='utf-8') as file:\n",
        "    for token, label in tokens_labels:\n",
        "        file.write(f\"{token}\\t{label}\\n\")\n",
        "\n",
        "print(f\"Text file saved at: {output_file_path}\")\n"
      ]
    },
    {
      "cell_type": "code",
      "execution_count": 2,
      "metadata": {
        "id": "6ExKU3ADZy2t"
      },
      "outputs": [],
      "source": [
        "corpus_path = \"corpus_with_labels.txt\"\n",
        "tokens = []\n",
        "labels = []\n",
        "with open(corpus_path, 'r', encoding='utf-8') as file:\n",
        "    for line in file:\n",
        "        token, label = line.strip().split('\\t')\n",
        "        tokens.append(token)\n",
        "        labels.append(label)\n"
      ]
    },
    {
      "cell_type": "markdown",
      "metadata": {},
      "source": [
        "# Data exploration"
      ]
    },
    {
      "cell_type": "code",
      "execution_count": 3,
      "metadata": {},
      "outputs": [
        {
          "name": "stdout",
          "output_type": "stream",
          "text": [
            "390999\n"
          ]
        }
      ],
      "source": [
        "print(len(tokens))"
      ]
    },
    {
      "cell_type": "code",
      "execution_count": 6,
      "metadata": {},
      "outputs": [
        {
          "data": {
            "text/plain": [
              "Counter({'I-DATE': 39348,\n",
              "         'B-DATE': 10704,\n",
              "         'I-NONGOV': 7624,\n",
              "         'I-GOV': 6681,\n",
              "         'B-GOV': 5669,\n",
              "         'B-TOWN': 4907,\n",
              "         'I-PERS': 4712,\n",
              "         'B-PERS': 4518,\n",
              "         'B-NONGOV': 4030,\n",
              "         'B-OCC': 3717,\n",
              "         'I-TOWN': 3714,\n",
              "         'B-NORP': 3585,\n",
              "         'I-MED': 3374,\n",
              "         'I-EVENT': 3020,\n",
              "         'B-MED': 2886,\n",
              "         'B-ORDINAL': 2739,\n",
              "         'I-OCC': 2330,\n",
              "         'B-COUNTRY': 1976,\n",
              "         'I-NORP': 1878,\n",
              "         'B-EVENT': 1850,\n",
              "         'I-STATE-OR-PROVINCE': 1353,\n",
              "         'I-WEBSITE': 1346,\n",
              "         'B-CARDINAL': 1291,\n",
              "         'B-STATE-OR-PROVINCE': 1143,\n",
              "         'I-LAW': 986,\n",
              "         'I-BUILDING-OR-GROUNDS': 920,\n",
              "         'I-CAMP': 784,\n",
              "         'I-COM': 759,\n",
              "         'I-EDU': 738,\n",
              "         'B-BUILDING-OR-GROUNDS': 646,\n",
              "         'B-CAMP': 595,\n",
              "         'B-EDU': 440,\n",
              "         'B-COM': 440,\n",
              "         'I-REGION-GENERAL': 428,\n",
              "         'B-WEBSITE': 411,\n",
              "         'B-LAW': 368,\n",
              "         'I-CARDINAL': 350,\n",
              "         'I-ORDINAL': 346,\n",
              "         'I-MONEY': 311,\n",
              "         'B-TIME': 309,\n",
              "         'B-REGION-GENERAL': 275,\n",
              "         'I-COUNTRY': 266,\n",
              "         'I-TIME': 250,\n",
              "         'B-MONEY': 172,\n",
              "         'I-CLUSTER': 166,\n",
              "         'I-SUBAREA-FACILITY': 162,\n",
              "         'B-LAND-REGION-NATURAL': 157,\n",
              "         'I-LAND-REGION-NATURAL': 148,\n",
              "         'I-PERCENT': 141,\n",
              "         'I-REL': 141,\n",
              "         'B-LANGUAGE': 139,\n",
              "         'B-CLUSTER': 138,\n",
              "         'I-NEIGHBORHOOD': 136,\n",
              "         'I-SCI': 116,\n",
              "         'I-PATH': 103,\n",
              "         'I-PRODUCT': 96,\n",
              "         'B-PERCENT': 92,\n",
              "         'B-SUBAREA-FACILITY': 91,\n",
              "         'I-WATER-BODY': 90,\n",
              "         'B-NEIGHBORHOOD': 78,\n",
              "         'B-WATER-BODY': 76,\n",
              "         'I-REGION-INTERNATIONAL': 76,\n",
              "         'B-REGION-INTERNATIONAL': 67,\n",
              "         'B-CONTINENT': 65,\n",
              "         'B-REL': 61,\n",
              "         'B-PRODUCT': 61,\n",
              "         'B-SCI': 54,\n",
              "         'I-QUANTITY': 53,\n",
              "         'B-PATH': 52,\n",
              "         'B-QUANTITY': 43,\n",
              "         'I-BOUNDARY': 31,\n",
              "         'I-Cluster': 16,\n",
              "         'B-CURR': 15,\n",
              "         'B-BOUNDARY': 15,\n",
              "         'B-Cluster': 15,\n",
              "         'B-SPO': 11,\n",
              "         'I-SPO': 11,\n",
              "         'I-AIRPORT': 7,\n",
              "         'B-UNIT': 6,\n",
              "         'B-SPORT': 5,\n",
              "         'B-AIRPORT': 5,\n",
              "         'I-LANGUAGE': 4,\n",
              "         'I-CURR': 3,\n",
              "         'I-CONTINENT': 3,\n",
              "         'B-CELESTIAL': 2,\n",
              "         'I-PLANT': 2,\n",
              "         'B-ORG': 2,\n",
              "         'I-ORG': 2,\n",
              "         'I-SPORT': 1,\n",
              "         'B-PLANT': 1,\n",
              "         'B-LAND': 1,\n",
              "         'I-Path': 1})"
            ]
          },
          "execution_count": 6,
          "metadata": {},
          "output_type": "execute_result"
        }
      ],
      "source": [
        "# Label counts (excluding \"O\" label)\n",
        "label_counts = Counter(label for label in labels if label != \"O\")\n",
        "label_counts"
      ]
    },
    {
      "cell_type": "code",
      "execution_count": 7,
      "metadata": {},
      "outputs": [
        {
          "name": "stdout",
          "output_type": "stream",
          "text": [
            "Number of unique labels: 92\n"
          ]
        }
      ],
      "source": [
        "num_unique_labels = len(label_counts.keys())\n",
        "print(\"Number of unique labels:\", num_unique_labels)"
      ]
    },
    {
      "cell_type": "markdown",
      "metadata": {},
      "source": [
        "# Data exploration/Visualization"
      ]
    },
    {
      "cell_type": "code",
      "execution_count": 8,
      "metadata": {
        "colab": {
          "base_uri": "https://localhost:8080/",
          "height": 675
        },
        "id": "XPyAf9lwabj4",
        "outputId": "7d79657d-e902-4628-bbb4-e96dbec412fa"
      },
      "outputs": [
        {
          "data": {
            "image/png": "[encoded data removed]",
            "text/plain": [
              "<Figure size 800x800 with 1 Axes>"
            ]
          },
          "metadata": {},
          "output_type": "display_data"
        }
      ],
      "source": [
        "# Label Distribution Pie Chart\n",
        "plt.figure(figsize=(8, 8))\n",
        "plt.pie(label_counts.values(), labels=label_counts.keys(), autopct='%1.1f%%')\n",
        "plt.title('Label Distribution (excluding \"O\" label)')\n",
        "plt.show()"
      ]
    },
    {
      "cell_type": "code",
      "execution_count": 9,
      "metadata": {},
      "outputs": [
        {
          "data": {
            "application/vnd.plotly.v1+json": {
              "config": {
                "plotlyServerURL": "https://plot.ly"
              },
              "data": [
                {
                  "alignmentgroup": "True",
                  "hovertemplate": "x=%{x}<br>y=%{y}<extra></extra>",
                  "legendgroup": "",
                  "marker": {
                    "color": "#636efa",
                    "pattern": {
                      "shape": ""
                    }
                  },
                  "name": "",
                  "offsetgroup": "",
                  "orientation": "v",
                  "showlegend": false,
                  "textposition": "auto",
                  "type": "bar",
                  "x": [
                    "B-CARDINAL",
                    "B-GOV",
                    "I-GOV",
                    "B-DATE",
                    "B-LANGUAGE",
                    "B-NORP",
                    "B-PERS",
                    "I-PERS",
                    "B-OCC",
                    "I-DATE",
                    "B-COUNTRY",
                    "B-EVENT",
                    "I-EVENT",
                    "I-OCC",
                    "I-CARDINAL",
                    "B-BUILDING-OR-GROUNDS",
                    "I-BUILDING-OR-GROUNDS",
                    "B-TOWN",
                    "B-CONTINENT",
                    "B-MONEY",
                    "I-MONEY",
                    "B-ORDINAL",
                    "I-LANGUAGE",
                    "B-EDU",
                    "I-EDU",
                    "B-TIME",
                    "I-TIME",
                    "B-SPO",
                    "I-SPO",
                    "B-SPORT",
                    "I-SPORT",
                    "B-LAND-REGION-NATURAL",
                    "I-LAND-REGION-NATURAL",
                    "I-NORP",
                    "I-COUNTRY",
                    "I-TOWN",
                    "B-CLUSTER",
                    "I-CLUSTER",
                    "B-QUANTITY",
                    "B-NONGOV",
                    "B-STATE-OR-PROVINCE",
                    "I-NONGOV",
                    "B-NEIGHBORHOOD",
                    "I-NEIGHBORHOOD",
                    "I-STATE-OR-PROVINCE",
                    "B-PERCENT",
                    "I-PERCENT",
                    "B-WATER-BODY",
                    "I-WATER-BODY",
                    "B-CAMP",
                    "I-CAMP",
                    "B-UNIT",
                    "I-QUANTITY",
                    "B-PATH",
                    "I-PATH",
                    "B-MED",
                    "I-MED",
                    "B-REGION-GENERAL",
                    "I-REGION-GENERAL",
                    "B-CURR",
                    "B-WEBSITE",
                    "B-COM",
                    "I-COM",
                    "I-ORDINAL",
                    "B-CELESTIAL",
                    "B-SUBAREA-FACILITY",
                    "I-SUBAREA-FACILITY",
                    "B-SCI",
                    "I-SCI",
                    "B-REL",
                    "I-REL",
                    "B-REGION-INTERNATIONAL",
                    "I-REGION-INTERNATIONAL",
                    "B-BOUNDARY",
                    "I-BOUNDARY",
                    "B-PLANT",
                    "I-PLANT",
                    "B-LAW",
                    "I-LAW",
                    "B-ORG",
                    "I-ORG",
                    "I-WEBSITE",
                    "I-CURR",
                    "B-PRODUCT",
                    "I-PRODUCT",
                    "B-AIRPORT",
                    "I-AIRPORT",
                    "I-CONTINENT",
                    "B-LAND",
                    "I-Path",
                    "B-Cluster",
                    "I-Cluster"
                  ],
                  "xaxis": "x",
                  "y": [
                    1291,
                    5669,
                    6681,
                    10704,
                    139,
                    3585,
                    4518,
                    4712,
                    3717,
                    39348,
                    1976,
                    1850,
                    3020,
                    2330,
                    350,
                    646,
                    920,
                    4907,
                    65,
                    172,
                    311,
                    2739,
                    4,
                    440,
                    738,
                    309,
                    250,
                    11,
                    11,
                    5,
                    1,
                    157,
                    148,
                    1878,
                    266,
                    3714,
                    138,
                    166,
                    43,
                    4030,
                    1143,
                    7624,
                    78,
                    136,
                    1353,
                    92,
                    141,
                    76,
                    90,
                    595,
                    784,
                    6,
                    53,
                    52,
                    103,
                    2886,
                    3374,
                    275,
                    428,
                    15,
                    411,
                    440,
                    759,
                    346,
                    2,
                    91,
                    162,
                    54,
                    116,
                    61,
                    141,
                    67,
                    76,
                    15,
                    31,
                    1,
                    2,
                    368,
                    986,
                    2,
                    2,
                    1346,
                    3,
                    61,
                    96,
                    5,
                    7,
                    3,
                    1,
                    1,
                    15,
                    16
                  ],
                  "yaxis": "y"
                }
              ],
              "layout": {
                "bargap": 0,
                "barmode": "relative",
                "legend": {
                  "tracegroupgap": 0
                },
                "margin": {
                  "t": 60
                },
                "template": {
                  "data": {
                    "bar": [
                      {
                        "error_x": {
                          "color": "#2a3f5f"
                        },
                        "error_y": {
                          "color": "#2a3f5f"
                        },
                        "marker": {
                          "line": {
                            "color": "#E5ECF6",
                            "width": 0.5
                          },
                          "pattern": {
                            "fillmode": "overlay",
                            "size": 10,
                            "solidity": 0.2
                          }
                        },
                        "type": "bar"
                      }
                    ],
                    "barpolar": [
                      {
                        "marker": {
                          "line": {
                            "color": "#E5ECF6",
                            "width": 0.5
                          },
                          "pattern": {
                            "fillmode": "overlay",
                            "size": 10,
                            "solidity": 0.2
                          }
                        },
                        "type": "barpolar"
                      }
                    ],
                    "carpet": [
                      {
                        "aaxis": {
                          "endlinecolor": "#2a3f5f",
                          "gridcolor": "white",
                          "linecolor": "white",
                          "minorgridcolor": "white",
                          "startlinecolor": "#2a3f5f"
                        },
                        "baxis": {
                          "endlinecolor": "#2a3f5f",
                          "gridcolor": "white",
                          "linecolor": "white",
                          "minorgridcolor": "white",
                          "startlinecolor": "#2a3f5f"
                        },
                        "type": "carpet"
                      }
                    ],
                    "choropleth": [
                      {
                        "colorbar": {
                          "outlinewidth": 0,
                          "ticks": ""
                        },
                        "type": "choropleth"
                      }
                    ],
                    "contour": [
                      {
                        "colorbar": {
                          "outlinewidth": 0,
                          "ticks": ""
                        },
                        "colorscale": [
                          [
                            0,
                            "#0d0887"
                          ],
                          [
                            0.1111111111111111,
                            "#46039f"
                          ],
                          [
                            0.2222222222222222,
                            "#7201a8"
                          ],
                          [
                            0.3333333333333333,
                            "#9c179e"
                          ],
                          [
                            0.4444444444444444,
                            "#bd3786"
                          ],
                          [
                            0.5555555555555556,
                            "#d8576b"
                          ],
                          [
                            0.6666666666666666,
                            "#ed7953"
                          ],
                          [
                            0.7777777777777778,
                            "#fb9f3a"
                          ],
                          [
                            0.8888888888888888,
                            "#fdca26"
                          ],
                          [
                            1,
                            "#f0f921"
                          ]
                        ],
                        "type": "contour"
                      }
                    ],
                    "contourcarpet": [
                      {
                        "colorbar": {
                          "outlinewidth": 0,
                          "ticks": ""
                        },
                        "type": "contourcarpet"
                      }
                    ],
                    "heatmap": [
                      {
                        "colorbar": {
                          "outlinewidth": 0,
                          "ticks": ""
                        },
                        "colorscale": [
                          [
                            0,
                            "#0d0887"
                          ],
                          [
                            0.1111111111111111,
                            "#46039f"
                          ],
                          [
                            0.2222222222222222,
                            "#7201a8"
                          ],
                          [
                            0.3333333333333333,
                            "#9c179e"
                          ],
                          [
                            0.4444444444444444,
                            "#bd3786"
                          ],
                          [
                            0.5555555555555556,
                            "#d8576b"
                          ],
                          [
                            0.6666666666666666,
                            "#ed7953"
                          ],
                          [
                            0.7777777777777778,
                            "#fb9f3a"
                          ],
                          [
                            0.8888888888888888,
                            "#fdca26"
                          ],
                          [
                            1,
                            "#f0f921"
                          ]
                        ],
                        "type": "heatmap"
                      }
                    ],
                    "heatmapgl": [
                      {
                        "colorbar": {
                          "outlinewidth": 0,
                          "ticks": ""
                        },
                        "colorscale": [
                          [
                            0,
                            "#0d0887"
                          ],
                          [
                            0.1111111111111111,
                            "#46039f"
                          ],
                          [
                            0.2222222222222222,
                            "#7201a8"
                          ],
                          [
                            0.3333333333333333,
                            "#9c179e"
                          ],
                          [
                            0.4444444444444444,
                            "#bd3786"
                          ],
                          [
                            0.5555555555555556,
                            "#d8576b"
                          ],
                          [
                            0.6666666666666666,
                            "#ed7953"
                          ],
                          [
                            0.7777777777777778,
                            "#fb9f3a"
                          ],
                          [
                            0.8888888888888888,
                            "#fdca26"
                          ],
                          [
                            1,
                            "#f0f921"
                          ]
                        ],
                        "type": "heatmapgl"
                      }
                    ],
                    "histogram": [
                      {
                        "marker": {
                          "pattern": {
                            "fillmode": "overlay",
                            "size": 10,
                            "solidity": 0.2
                          }
                        },
                        "type": "histogram"
                      }
                    ],
                    "histogram2d": [
                      {
                        "colorbar": {
                          "outlinewidth": 0,
                          "ticks": ""
                        },
                        "colorscale": [
                          [
                            0,
                            "#0d0887"
                          ],
                          [
                            0.1111111111111111,
                            "#46039f"
                          ],
                          [
                            0.2222222222222222,
                            "#7201a8"
                          ],
                          [
                            0.3333333333333333,
                            "#9c179e"
                          ],
                          [
                            0.4444444444444444,
                            "#bd3786"
                          ],
                          [
                            0.5555555555555556,
                            "#d8576b"
                          ],
                          [
                            0.6666666666666666,
                            "#ed7953"
                          ],
                          [
                            0.7777777777777778,
                            "#fb9f3a"
                          ],
                          [
                            0.8888888888888888,
                            "#fdca26"
                          ],
                          [
                            1,
                            "#f0f921"
                          ]
                        ],
                        "type": "histogram2d"
                      }
                    ],
                    "histogram2dcontour": [
                      {
                        "colorbar": {
                          "outlinewidth": 0,
                          "ticks": ""
                        },
                        "colorscale": [
                          [
                            0,
                            "#0d0887"
                          ],
                          [
                            0.1111111111111111,
                            "#46039f"
                          ],
                          [
                            0.2222222222222222,
                            "#7201a8"
                          ],
                          [
                            0.3333333333333333,
                            "#9c179e"
                          ],
                          [
                            0.4444444444444444,
                            "#bd3786"
                          ],
                          [
                            0.5555555555555556,
                            "#d8576b"
                          ],
                          [
                            0.6666666666666666,
                            "#ed7953"
                          ],
                          [
                            0.7777777777777778,
                            "#fb9f3a"
                          ],
                          [
                            0.8888888888888888,
                            "#fdca26"
                          ],
                          [
                            1,
                            "#f0f921"
                          ]
                        ],
                        "type": "histogram2dcontour"
                      }
                    ],
                    "mesh3d": [
                      {
                        "colorbar": {
                          "outlinewidth": 0,
                          "ticks": ""
                        },
                        "type": "mesh3d"
                      }
                    ],
                    "parcoords": [
                      {
                        "line": {
                          "colorbar": {
                            "outlinewidth": 0,
                            "ticks": ""
                          }
                        },
                        "type": "parcoords"
                      }
                    ],
                    "pie": [
                      {
                        "automargin": true,
                        "type": "pie"
                      }
                    ],
                    "scatter": [
                      {
                        "fillpattern": {
                          "fillmode": "overlay",
                          "size": 10,
                          "solidity": 0.2
                        },
                        "type": "scatter"
                      }
                    ],
                    "scatter3d": [
                      {
                        "line": {
                          "colorbar": {
                            "outlinewidth": 0,
                            "ticks": ""
                          }
                        },
                        "marker": {
                          "colorbar": {
                            "outlinewidth": 0,
                            "ticks": ""
                          }
                        },
                        "type": "scatter3d"
                      }
                    ],
                    "scattercarpet": [
                      {
                        "marker": {
                          "colorbar": {
                            "outlinewidth": 0,
                            "ticks": ""
                          }
                        },
                        "type": "scattercarpet"
                      }
                    ],
                    "scattergeo": [
                      {
                        "marker": {
                          "colorbar": {
                            "outlinewidth": 0,
                            "ticks": ""
                          }
                        },
                        "type": "scattergeo"
                      }
                    ],
                    "scattergl": [
                      {
                        "marker": {
                          "colorbar": {
                            "outlinewidth": 0,
                            "ticks": ""
                          }
                        },
                        "type": "scattergl"
                      }
                    ],
                    "scattermapbox": [
                      {
                        "marker": {
                          "colorbar": {
                            "outlinewidth": 0,
                            "ticks": ""
                          }
                        },
                        "type": "scattermapbox"
                      }
                    ],
                    "scatterpolar": [
                      {
                        "marker": {
                          "colorbar": {
                            "outlinewidth": 0,
                            "ticks": ""
                          }
                        },
                        "type": "scatterpolar"
                      }
                    ],
                    "scatterpolargl": [
                      {
                        "marker": {
                          "colorbar": {
                            "outlinewidth": 0,
                            "ticks": ""
                          }
                        },
                        "type": "scatterpolargl"
                      }
                    ],
                    "scatterternary": [
                      {
                        "marker": {
                          "colorbar": {
                            "outlinewidth": 0,
                            "ticks": ""
                          }
                        },
                        "type": "scatterternary"
                      }
                    ],
                    "surface": [
                      {
                        "colorbar": {
                          "outlinewidth": 0,
                          "ticks": ""
                        },
                        "colorscale": [
                          [
                            0,
                            "#0d0887"
                          ],
                          [
                            0.1111111111111111,
                            "#46039f"
                          ],
                          [
                            0.2222222222222222,
                            "#7201a8"
                          ],
                          [
                            0.3333333333333333,
                            "#9c179e"
                          ],
                          [
                            0.4444444444444444,
                            "#bd3786"
                          ],
                          [
                            0.5555555555555556,
                            "#d8576b"
                          ],
                          [
                            0.6666666666666666,
                            "#ed7953"
                          ],
                          [
                            0.7777777777777778,
                            "#fb9f3a"
                          ],
                          [
                            0.8888888888888888,
                            "#fdca26"
                          ],
                          [
                            1,
                            "#f0f921"
                          ]
                        ],
                        "type": "surface"
                      }
                    ],
                    "table": [
                      {
                        "cells": {
                          "fill": {
                            "color": "#EBF0F8"
                          },
                          "line": {
                            "color": "white"
                          }
                        },
                        "header": {
                          "fill": {
                            "color": "#C8D4E3"
                          },
                          "line": {
                            "color": "white"
                          }
                        },
                        "type": "table"
                      }
                    ]
                  },
                  "layout": {
                    "annotationdefaults": {
                      "arrowcolor": "#2a3f5f",
                      "arrowhead": 0,
                      "arrowwidth": 1
                    },
                    "autotypenumbers": "strict",
                    "coloraxis": {
                      "colorbar": {
                        "outlinewidth": 0,
                        "ticks": ""
                      }
                    },
                    "colorscale": {
                      "diverging": [
                        [
                          0,
                          "#8e0152"
                        ],
                        [
                          0.1,
                          "#c51b7d"
                        ],
                        [
                          0.2,
                          "#de77ae"
                        ],
                        [
                          0.3,
                          "#f1b6da"
                        ],
                        [
                          0.4,
                          "#fde0ef"
                        ],
                        [
                          0.5,
                          "#f7f7f7"
                        ],
                        [
                          0.6,
                          "#e6f5d0"
                        ],
                        [
                          0.7,
                          "#b8e186"
                        ],
                        [
                          0.8,
                          "#7fbc41"
                        ],
                        [
                          0.9,
                          "#4d9221"
                        ],
                        [
                          1,
                          "#276419"
                        ]
                      ],
                      "sequential": [
                        [
                          0,
                          "#0d0887"
                        ],
                        [
                          0.1111111111111111,
                          "#46039f"
                        ],
                        [
                          0.2222222222222222,
                          "#7201a8"
                        ],
                        [
                          0.3333333333333333,
                          "#9c179e"
                        ],
                        [
                          0.4444444444444444,
                          "#bd3786"
                        ],
                        [
                          0.5555555555555556,
                          "#d8576b"
                        ],
                        [
                          0.6666666666666666,
                          "#ed7953"
                        ],
                        [
                          0.7777777777777778,
                          "#fb9f3a"
                        ],
                        [
                          0.8888888888888888,
                          "#fdca26"
                        ],
                        [
                          1,
                          "#f0f921"
                        ]
                      ],
                      "sequentialminus": [
                        [
                          0,
                          "#0d0887"
                        ],
                        [
                          0.1111111111111111,
                          "#46039f"
                        ],
                        [
                          0.2222222222222222,
                          "#7201a8"
                        ],
                        [
                          0.3333333333333333,
                          "#9c179e"
                        ],
                        [
                          0.4444444444444444,
                          "#bd3786"
                        ],
                        [
                          0.5555555555555556,
                          "#d8576b"
                        ],
                        [
                          0.6666666666666666,
                          "#ed7953"
                        ],
                        [
                          0.7777777777777778,
                          "#fb9f3a"
                        ],
                        [
                          0.8888888888888888,
                          "#fdca26"
                        ],
                        [
                          1,
                          "#f0f921"
                        ]
                      ]
                    },
                    "colorway": [
                      "#636efa",
                      "#EF553B",
                      "#00cc96",
                      "#ab63fa",
                      "#FFA15A",
                      "#19d3f3",
                      "#FF6692",
                      "#B6E880",
                      "#FF97FF",
                      "#FECB52"
                    ],
                    "font": {
                      "color": "#2a3f5f"
                    },
                    "geo": {
                      "bgcolor": "white",
                      "lakecolor": "white",
                      "landcolor": "#E5ECF6",
                      "showlakes": true,
                      "showland": true,
                      "subunitcolor": "white"
                    },
                    "hoverlabel": {
                      "align": "left"
                    },
                    "hovermode": "closest",
                    "mapbox": {
                      "style": "light"
                    },
                    "paper_bgcolor": "white",
                    "plot_bgcolor": "#E5ECF6",
                    "polar": {
                      "angularaxis": {
                        "gridcolor": "white",
                        "linecolor": "white",
                        "ticks": ""
                      },
                      "bgcolor": "#E5ECF6",
                      "radialaxis": {
                        "gridcolor": "white",
                        "linecolor": "white",
                        "ticks": ""
                      }
                    },
                    "scene": {
                      "xaxis": {
                        "backgroundcolor": "#E5ECF6",
                        "gridcolor": "white",
                        "gridwidth": 2,
                        "linecolor": "white",
                        "showbackground": true,
                        "ticks": "",
                        "zerolinecolor": "white"
                      },
                      "yaxis": {
                        "backgroundcolor": "#E5ECF6",
                        "gridcolor": "white",
                        "gridwidth": 2,
                        "linecolor": "white",
                        "showbackground": true,
                        "ticks": "",
                        "zerolinecolor": "white"
                      },
                      "zaxis": {
                        "backgroundcolor": "#E5ECF6",
                        "gridcolor": "white",
                        "gridwidth": 2,
                        "linecolor": "white",
                        "showbackground": true,
                        "ticks": "",
                        "zerolinecolor": "white"
                      }
                    },
                    "shapedefaults": {
                      "line": {
                        "color": "#2a3f5f"
                      }
                    },
                    "ternary": {
                      "aaxis": {
                        "gridcolor": "white",
                        "linecolor": "white",
                        "ticks": ""
                      },
                      "baxis": {
                        "gridcolor": "white",
                        "linecolor": "white",
                        "ticks": ""
                      },
                      "bgcolor": "#E5ECF6",
                      "caxis": {
                        "gridcolor": "white",
                        "linecolor": "white",
                        "ticks": ""
                      }
                    },
                    "title": {
                      "x": 0.05
                    },
                    "xaxis": {
                      "automargin": true,
                      "gridcolor": "white",
                      "linecolor": "white",
                      "ticks": "",
                      "title": {
                        "standoff": 15
                      },
                      "zerolinecolor": "white",
                      "zerolinewidth": 2
                    },
                    "yaxis": {
                      "automargin": true,
                      "gridcolor": "white",
                      "linecolor": "white",
                      "ticks": "",
                      "title": {
                        "standoff": 15
                      },
                      "zerolinecolor": "white",
                      "zerolinewidth": 2
                    }
                  }
                },
                "title": {
                  "text": "Distribution of Labels"
                },
                "xaxis": {
                  "anchor": "y",
                  "categoryorder": "total descending",
                  "domain": [
                    0,
                    1
                  ],
                  "tickangle": -45,
                  "tickfont": {
                    "size": 8
                  },
                  "ticktext": [
                    "B-CARDINAL",
                    "B-GOV",
                    "I-GOV",
                    "B-DATE",
                    "B-LANGUAGE",
                    "B-NORP",
                    "B-PERS",
                    "I-PERS",
                    "B-OCC",
                    "I-DATE",
                    "B-COUNTRY",
                    "B-EVENT",
                    "I-EVENT",
                    "I-OCC",
                    "I-CARDINAL",
                    "B-BUILDING-OR-GROUNDS",
                    "I-BUILDING-OR-GROUNDS",
                    "B-TOWN",
                    "B-CONTINENT",
                    "B-MONEY",
                    "I-MONEY",
                    "B-ORDINAL",
                    "I-LANGUAGE",
                    "B-EDU",
                    "I-EDU",
                    "B-TIME",
                    "I-TIME",
                    "B-SPO",
                    "I-SPO",
                    "B-SPORT",
                    "I-SPORT",
                    "B-LAND-REGION-NATURAL",
                    "I-LAND-REGION-NATURAL",
                    "I-NORP",
                    "I-COUNTRY",
                    "I-TOWN",
                    "B-CLUSTER",
                    "I-CLUSTER",
                    "B-QUANTITY",
                    "B-NONGOV",
                    "B-STATE-OR-PROVINCE",
                    "I-NONGOV",
                    "B-NEIGHBORHOOD",
                    "I-NEIGHBORHOOD",
                    "I-STATE-OR-PROVINCE",
                    "B-PERCENT",
                    "I-PERCENT",
                    "B-WATER-BODY",
                    "I-WATER-BODY",
                    "B-CAMP",
                    "I-CAMP",
                    "B-UNIT",
                    "I-QUANTITY",
                    "B-PATH",
                    "I-PATH",
                    "B-MED",
                    "I-MED",
                    "B-REGION-GENERAL",
                    "I-REGION-GENERAL",
                    "B-CURR",
                    "B-WEBSITE",
                    "B-COM",
                    "I-COM",
                    "I-ORDINAL",
                    "B-CELESTIAL",
                    "B-SUBAREA-FACILITY",
                    "I-SUBAREA-FACILITY",
                    "B-SCI",
                    "I-SCI",
                    "B-REL",
                    "I-REL",
                    "B-REGION-INTERNATIONAL",
                    "I-REGION-INTERNATIONAL",
                    "B-BOUNDARY",
                    "I-BOUNDARY",
                    "B-PLANT",
                    "I-PLANT",
                    "B-LAW",
                    "I-LAW",
                    "B-ORG",
                    "I-ORG",
                    "I-WEBSITE",
                    "I-CURR",
                    "B-PRODUCT",
                    "I-PRODUCT",
                    "B-AIRPORT",
                    "I-AIRPORT",
                    "I-CONTINENT",
                    "B-LAND",
                    "I-Path",
                    "B-Cluster",
                    "I-Cluster"
                  ],
                  "title": {
                    "text": "x"
                  }
                },
                "yaxis": {
                  "anchor": "x",
                  "domain": [
                    0,
                    1
                  ],
                  "title": {
                    "text": "y"
                  }
                }
              }
            }
          },
          "metadata": {},
          "output_type": "display_data"
        }
      ],
      "source": [
        "fig = px.bar(x=label_counts.keys(), y=label_counts.values())\n",
        "fig.update_layout(title='Distribution of Labels', bargap=0, \n",
        "                  xaxis={'categoryorder':'total descending',\n",
        "                        'ticktext': list(label_counts.keys()),  \n",
        "                        'tickangle': -45})\n",
        "fig.update_xaxes(tickfont_size=8)\n",
        "\n",
        "fig.show()"
      ]
    },
    {
      "cell_type": "markdown",
      "metadata": {},
      "source": [
        "# Data Preprocessing"
      ]
    },
    {
      "cell_type": "code",
      "execution_count": 10,
      "metadata": {},
      "outputs": [
        {
          "data": {
            "text/plain": [
              "(390999, 52636)"
            ]
          },
          "execution_count": 10,
          "metadata": {},
          "output_type": "execute_result"
        }
      ],
      "source": [
        "\n",
        "unique_embeddings = []\n",
        "seen = set() \n",
        "\n",
        "for sublist in tokens_labels:\n",
        "  tuple_sublist = str(sublist)\n",
        "  if tuple_sublist not in seen:\n",
        "    seen.add(tuple_sublist)\n",
        "    unique_embeddings.append(sublist)\n",
        "\n",
        "len(tokens_labels) , len(unique_embeddings)\n"
      ]
    },
    {
      "cell_type": "code",
      "execution_count": 11,
      "metadata": {},
      "outputs": [
        {
          "data": {
            "text/plain": [
              "[('بين', 'O'),\n",
              " ('الوعي', 'O'),\n",
              " ('والّلاوعي', 'O'),\n",
              " ('عم', 'O'),\n",
              " ('شوف', 'O'),\n",
              " ('حلم', 'O'),\n",
              " ('وانا', 'O'),\n",
              " ('عا', 'O'),\n",
              " ('مخدتي', 'O'),\n",
              " ('مقلّق', 'O'),\n",
              " ('حسيت', 'O'),\n",
              " ('اني', 'O'),\n",
              " ('راكض', 'O'),\n",
              " ('وملهوف', 'O'),\n",
              " ('ومن', 'O'),\n",
              " ('حول', 'O'),\n",
              " ('منك', 'O'),\n",
              " ('صار', 'O'),\n",
              " ('قلبي', 'O'),\n",
              " ('يطوف', 'O'),\n",
              " ('وعا', 'O'),\n",
              " ('غصون', 'O'),\n",
              " ('عمرك', 'O'),\n",
              " ('يتسلق', 'O'),\n",
              " ('وصاروا', 'O'),\n",
              " ('عيونك', 'O'),\n",
              " ('كل', 'O'),\n",
              " ('ساعه', 'O'),\n",
              " ('لون', 'O'),\n",
              " ('اسود', 'O'),\n",
              " ('اخضر', 'O'),\n",
              " ('متل', 'O'),\n",
              " ('الكون', 'O'),\n",
              " ('احيان', 'O'),\n",
              " ('البدر', 'O'),\n",
              " ('قاعد', 'O'),\n",
              " ('هون', 'O'),\n",
              " ('وأحيان', 'O'),\n",
              " ('معلق', 'O'),\n",
              " ('راح', 'O'),\n",
              " ('.', 'O'),\n",
              " ('لا', 'O'),\n",
              " ('تفزعي', 'O'),\n",
              " ('صوب', 'O'),\n",
              " ('النهر', 'O'),\n",
              " ('روحي', 'O'),\n",
              " ('هونيك', 'O'),\n",
              " ('ونزفة', 'O'),\n",
              " ('جروحي', 'O'),\n",
              " ('رح', 'O'),\n",
              " ('ضل', 'O'),\n",
              " ('شوفك', 'O'),\n",
              " ('وين', 'O'),\n",
              " ('ما', 'O'),\n",
              " ('كنتي', 'O'),\n",
              " ('وكلما', 'O'),\n",
              " ('التفتت', 'O'),\n",
              " ('بتطلعي', 'O'),\n",
              " ('انتي', 'O'),\n",
              " ('يمكن', 'O'),\n",
              " ('لأني', 'O'),\n",
              " ('ملبّسك', 'O'),\n",
              " ('عنقود', 'O'),\n",
              " ('الكرم', 'O'),\n",
              " ('تحلا', 'O'),\n",
              " ('بكرمه', 'O'),\n",
              " ('خالقها', 'O'),\n",
              " ('الله', 'O'),\n",
              " ('وشو', 'O'),\n",
              " ('حلوه', 'O'),\n",
              " ('لما', 'O'),\n",
              " ('الدبور', 'O'),\n",
              " ('حبوبو', 'O'),\n",
              " ('يتسلا', 'O'),\n",
              " ('لو', 'O'),\n",
              " ('حطو', 'O'),\n",
              " ('الدنيا', 'O'),\n",
              " ('حدي', 'O'),\n",
              " ('وكل', 'O'),\n",
              " ('الورد', 'O'),\n",
              " ('علا', 'O'),\n",
              " ('خدي', 'O'),\n",
              " ('بدي', 'O'),\n",
              " ('ولا', 'O'),\n",
              " ('غير', 'O'),\n",
              " ('غافلت', 'O'),\n",
              " ('ورحت', 'O'),\n",
              " ('شم', 'O'),\n",
              " ('المزروع', 'O'),\n",
              " ('وعيونك', 'O'),\n",
              " ('حالي', 'O'),\n",
              " ('مدنّق', 'O'),\n",
              " ('من', 'O'),\n",
              " ('البرد', 'O'),\n",
              " ('دفيت', 'O'),\n",
              " ('إلا', 'O'),\n",
              " ('بخيمة', 'O'),\n",
              " ('جفونك', 'O'),\n",
              " ('ايدك', 'O'),\n",
              " ('كأنها', 'O'),\n",
              " ('زنبقه', 'O'),\n",
              " ('عالخد', 'O'),\n",
              " ('وشلوشها', 'O'),\n",
              " ('بالقلب', 'O'),\n",
              " ('مزروعه', 'O'),\n",
              " ('غصونها', 'O'),\n",
              " ('كلما', 'O'),\n",
              " ('الندي', 'O'),\n",
              " ('يشتد', 'O'),\n",
              " ('مع', 'O'),\n",
              " ('دمعه', 'O'),\n",
              " ('مهجتي', 'O'),\n",
              " ('بتوعى', 'O'),\n",
              " ('حياتي', 'O'),\n",
              " ('بيمنعني', 'O'),\n",
              " ('فيكي', 'O'),\n",
              " ('حنين', 'O'),\n",
              " ('الحب', 'O'),\n",
              " ('يجمعني', 'O'),\n",
              " ('تا', 'O'),\n",
              " ('عينيكي', 'O'),\n",
              " ('ولو', 'O'),\n",
              " ('مشوار', 'O'),\n",
              " ('وتا', 'O'),\n",
              " ('اكتبك', 'O'),\n",
              " ('عالصدر', 'O'),\n",
              " ('ليل', 'O'),\n",
              " ('نهار', 'O'),\n",
              " ('وبحروف', 'O'),\n",
              " ('اسمك', 'O'),\n",
              " ('كلّف', 'O'),\n",
              " ('الحفار', 'O'),\n",
              " ('حتى', 'O'),\n",
              " ('يعود', 'O'),\n",
              " ('يوجعني', 'O'),\n",
              " ('اذا', 'O'),\n",
              " ('شفتي', 'O'),\n",
              " ('عيوني', 'O'),\n",
              " ('تكون', 'O'),\n",
              " ('صابيع', 'O'),\n",
              " ('ديكي', 'O'),\n",
              " ('لاقطه', 'O'),\n",
              " ('كمك', 'O'),\n",
              " ('حس', 'O'),\n",
              " ('وهج', 'O'),\n",
              " ('المخزون', 'O'),\n",
              " ('ينزل', 'O'),\n",
              " ('على', 'O'),\n",
              " ('تمك', 'O'),\n",
              " ('تعمشق', 'O'),\n",
              " ('نظر', 'O'),\n",
              " ('عيني', 'O'),\n",
              " ('عليكي', 'O'),\n",
              " ('وصار', 'O'),\n",
              " ('يراقب', 'O'),\n",
              " ('سهريه', 'O'),\n",
              " ('نظراتك', 'O'),\n",
              " ('زهر', 'O'),\n",
              " ('نوار', 'O'),\n",
              " ('يمرقو', 'O'),\n",
              " ('عالتلج', 'O'),\n",
              " ('النار', 'O'),\n",
              " ('ويذوّبو', 'O'),\n",
              " ('شهد', 'O'),\n",
              " ('العمر', 'O'),\n",
              " ('فيّي', 'O'),\n",
              " ('تطلعت', 'O'),\n",
              " ('بعيونك', 'O'),\n",
              " ('لقيت', 'O'),\n",
              " ('كلو', 'O'),\n",
              " ('كأنو', 'O'),\n",
              " ('مرجوحه', 'O'),\n",
              " ('خدود', 'O'),\n",
              " ('الف', 'B-CARDINAL'),\n",
              " ('ولون', 'O'),\n",
              " ('وتمّك', 'O'),\n",
              " ('صدى', 'O'),\n",
              " ('نايات', 'O'),\n",
              " ('مبحوحه', 'O'),\n",
              " ('مرّه', 'O'),\n",
              " ('رحت', 'O'),\n",
              " ('تاشوف', 'O'),\n",
              " ('وجهك', 'O'),\n",
              " ('ومنين', 'O'),\n",
              " ('هالعطر', 'O'),\n",
              " ('الزكي', 'O'),\n",
              " ('بيفوح', 'O'),\n",
              " ('الزهر', 'O'),\n",
              " ('مرتاح', 'O'),\n",
              " ('وبين', 'O'),\n",
              " ('التمّ', 'O'),\n",
              " ('الحنون', 'O'),\n",
              " ('ونظرة', 'O'),\n",
              " ('العينين', 'O'),\n",
              " ('وبالبيت', 'O'),\n",
              " ('تاركني', 'O'),\n",
              " ('آخر', 'O'),\n",
              " ('روح', 'O'),\n",
              " ('شروقي', 'O'),\n",
              " ('مشتاق', 'O'),\n",
              " ('ليكي', 'O'),\n",
              " ('تجي', 'O'),\n",
              " ('ويتكتك', 'O'),\n",
              " ('العصفور', 'O'),\n",
              " ('وتكون', 'O'),\n",
              " ('روحك', 'O'),\n",
              " ('معي', 'O'),\n",
              " ('بالصدر', 'O'),\n",
              " ('مصروره', 'O'),\n",
              " ('وحروف', 'O'),\n",
              " ('كانها', 'O'),\n",
              " ('لمعة', 'O'),\n",
              " ('البلور', 'O'),\n",
              " ('لوح', 'O'),\n",
              " ('صدري', 'O'),\n",
              " ('بإيدي', 'O'),\n",
              " ('حفر', 'O'),\n",
              " ('محفوره', 'O'),\n",
              " ('ونكون', 'O'),\n",
              " ('بجنينة', 'O'),\n",
              " ('المنتور', 'O'),\n",
              " ('منا', 'O'),\n",
              " ('الدني', 'O'),\n",
              " ('جنّات', 'O'),\n",
              " ('معموره', 'O'),\n",
              " ('ويكون', 'O'),\n",
              " ('النحل', 'O'),\n",
              " ('فوق', 'O'),\n",
              " ('معصور', 'O'),\n",
              " ('مجرى', 'O'),\n",
              " ('برواز', 'O'),\n",
              " ('للصوره', 'O'),\n",
              " ('زقّمتهن', 'O'),\n",
              " ('وقت', 'O'),\n",
              " ('اللي', 'O'),\n",
              " ('كانو', 'O'),\n",
              " ('زغار', 'O'),\n",
              " ('كنت', 'O'),\n",
              " ('اسقيهن', 'O'),\n",
              " ('احفر', 'O'),\n",
              " ('عاصدري', 'O'),\n",
              " ('بالمسمار', 'O'),\n",
              " ('جبلهن', 'O'),\n",
              " ('موني', 'O'),\n",
              " ('مرج', 'O'),\n",
              " ('عمري', 'O'),\n",
              " ('اقطف', 'O'),\n",
              " ('الازهار', 'O'),\n",
              " ('وقضّي', 'O'),\n",
              " ('وسخوني', 'O'),\n",
              " ('اعصر', 'O'),\n",
              " ('حروفي', 'O'),\n",
              " ('حبر', 'O'),\n",
              " ('الغار', 'O'),\n",
              " ('وعبّي', 'O'),\n",
              " ('الآهات', 'O'),\n",
              " ('مخزوني', 'O'),\n",
              " ('وأعمل', 'O'),\n",
              " ('رموشي', 'O'),\n",
              " ('للرسم', 'O'),\n",
              " ('بيكار', 'O'),\n",
              " ('وارسم', 'O'),\n",
              " ('حيط', 'O'),\n",
              " ('تذكار', 'O'),\n",
              " ('فلفش', 'O'),\n",
              " ('وبعثر', 'O'),\n",
              " ('الأشعار', 'O'),\n",
              " ('صارو', 'O'),\n",
              " ('للحرف', 'O'),\n",
              " ('شعّار', 'O'),\n",
              " ('هالتقدير', 'O'),\n",
              " ('نسيوني', 'O'),\n",
              " ('بحياة', 'O'),\n",
              " ('الجيش', 'B-GOV'),\n",
              " ('اللبناني', 'I-GOV'),\n",
              " ('يحمي', 'O'),\n",
              " ('الزند', 'O'),\n",
              " ('الباني', 'O'),\n",
              " ('يا', 'O'),\n",
              " ('بلادي', 'O'),\n",
              " ('عمراني', 'O'),\n",
              " ('وعابيدرنا', 'O'),\n",
              " ('نجمع', 'O'),\n",
              " ('ونصرخ', 'O'),\n",
              " ('وحياتك', 'O'),\n",
              " ('يارب', 'O'),\n",
              " ('وبحياة', 'O'),\n",
              " ('والفرسان', 'O'),\n",
              " ('بضهر', 'O'),\n",
              " ('الخيل', 'O'),\n",
              " ('تحمي', 'O'),\n",
              " ('ميل', 'O'),\n",
              " ('منحلف', 'O'),\n",
              " ('منشوف', 'O'),\n",
              " ('الويل', 'O'),\n",
              " ('بوجود', 'O'),\n",
              " ('القمر', 'O'),\n",
              " ('يوم', 'O'),\n",
              " ('بتهلّي', 'O'),\n",
              " ('طول', 'O'),\n",
              " ('عندك', 'O'),\n",
              " ('عالارض', 'O'),\n",
              " ('طلي', 'O'),\n",
              " ('كثر', 'O'),\n",
              " ('نورك', 'O'),\n",
              " ('سحر', 'O'),\n",
              " ('هالكون', 'O'),\n",
              " ('نجمات', 'O'),\n",
              " ('حولك', 'O'),\n",
              " ('مش', 'O'),\n",
              " ('تخلي', 'O'),\n",
              " ('كرمال', 'O'),\n",
              " ('كتبت', 'O'),\n",
              " ('حروف', 'O'),\n",
              " ('وعاوراق', 'O'),\n",
              " ('بلشت', 'O'),\n",
              " ('ادمع', 'O'),\n",
              " ('يغزلك', 'O'),\n",
              " ('الشعر', 'O'),\n",
              " ('كنزة', 'O'),\n",
              " ('صوف', 'O'),\n",
              " ('ويلفّها', 'O'),\n",
              " ('كتافك', 'O'),\n",
              " ('ويرجع', 'O'),\n",
              " ('اتطلّعت', 'O'),\n",
              " ('شفت', 'O'),\n",
              " ('اسرار', 'O'),\n",
              " ('خلف', 'O'),\n",
              " ('القلق', 'O'),\n",
              " ('مخبّايه', 'O'),\n",
              " ('وعالخد', 'O'),\n",
              " ('وردتين', 'O'),\n",
              " ('ورده', 'O'),\n",
              " ('تقلي', 'O'),\n",
              " ('عليك', 'O'),\n",
              " ('بغار', 'O'),\n",
              " ('بتسأل', 'O'),\n",
              " ('ايمتا', 'O'),\n",
              " ('جاي', 'O'),\n",
              " ('اللون', 'O'),\n",
              " ('بيقهر', 'O'),\n",
              " ('قهر', 'O'),\n",
              " ('بسرّ', 'O'),\n",
              " ('وجهر', 'O'),\n",
              " ('بيكوي', 'O'),\n",
              " ('قلوب', 'O'),\n",
              " ('بس', 'O'),\n",
              " ('المهر', 'O'),\n",
              " ('قبال', 'O'),\n",
              " ('بيمشي', 'O'),\n",
              " ('الدهر', 'O'),\n",
              " ('دروب', 'O'),\n",
              " ('سبحان', 'O'),\n",
              " ('ربي', 'O'),\n",
              " ('عطاكي', 'O'),\n",
              " ('عيون', 'O'),\n",
              " ('تاضل', 'O'),\n",
              " ('اقشع', 'O'),\n",
              " ('هالدني', 'O'),\n",
              " ('فيهن', 'O'),\n",
              " ('تبعدي', 'O'),\n",
              " ('عن', 'O'),\n",
              " ('المحزون', 'O'),\n",
              " ('مطرح', 'O'),\n",
              " ('عيونو', 'O'),\n",
              " ('خليهن', 'O'),\n",
              " ('Coolness', 'O'),\n",
              " ('دخيلك', 'O'),\n",
              " ('رجّعي', 'O'),\n",
              " ('الايام', 'O'),\n",
              " ('Costume', 'O'),\n",
              " ('غفوه', 'O'),\n",
              " ('بشوفك', 'O'),\n",
              " ('بحلمي', 'O'),\n",
              " ('ياريتني', 'O'),\n",
              " ('طفل', 'O'),\n",
              " ('زندك', 'O'),\n",
              " ('نام', 'O'),\n",
              " ('وإكبر', 'O'),\n",
              " ('إمي', 'O'),\n",
              " ('وتكبر', 'O'),\n",
              " ('الأحلام', 'O'),\n",
              " ('همستي', 'O'),\n",
              " ('بثغرك', 'O'),\n",
              " ('البسّام', 'O'),\n",
              " ('بتفوح', 'O'),\n",
              " ('ريحة', 'O'),\n",
              " ('الكلمي', 'O'),\n",
              " ('ه', 'O'),\n",
              " ('انك', 'O'),\n",
              " ('قاعده', 'O'),\n",
              " ('ونظرات', 'O'),\n",
              " ('شمس', 'O'),\n",
              " ('وجوات', 'O'),\n",
              " ('نار', 'O'),\n",
              " ('بتثور', 'O'),\n",
              " ('وعامخدتي', 'O'),\n",
              " ('في', 'O'),\n",
              " ('عصفور', 'O'),\n",
              " ('واللحن', 'O'),\n",
              " ('ينزف', 'O'),\n",
              " ('عالمخدي', 'O'),\n",
              " ('شفتك', 'O'),\n",
              " ('بعزّ', 'O'),\n",
              " ('الضهر', 'O'),\n",
              " ('ووهج', 'O'),\n",
              " ('خدودك', 'O'),\n",
              " ('كاويني', 'O'),\n",
              " ('وبسمة', 'O'),\n",
              " ('تمّك', 'O'),\n",
              " ('الطهر', 'O'),\n",
              " ('بتركض', 'O'),\n",
              " ('بتبوس', 'O'),\n",
              " ('جبيني', 'O'),\n",
              " ('Costumet', 'O'),\n",
              " ('هالدهر', 'O'),\n",
              " ('court', 'O'),\n",
              " ('وراحو', 'O'),\n",
              " ('المنابر', 'O'),\n",
              " ('يسألو', 'O'),\n",
              " ('عني', 'O'),\n",
              " ('مايلاقو', 'O'),\n",
              " ('الزجل', 'O'),\n",
              " ('موجود', 'O'),\n",
              " ('يلاقوه', 'O'),\n",
              " ('ميّت', 'O'),\n",
              " ('بعد', 'O'),\n",
              " ('مني', 'O'),\n",
              " ('اشتقت', 'O'),\n",
              " ('للصوت', 'O'),\n",
              " ('بعزف', 'O'),\n",
              " ('بقلبي', 'O'),\n",
              " ('تاتجي', 'O'),\n",
              " ('ليّي', 'O'),\n",
              " ('لكن', 'O'),\n",
              " ('بدونك', 'O'),\n",
              " ('هالعمر', 'O'),\n",
              " ('مقهور', 'O'),\n",
              " ('غيرك', 'O'),\n",
              " ('آندرويد', 'O'),\n",
              " ('الطيور', 'O'),\n",
              " ('طيور', 'O'),\n",
              " ('بعطيك', 'O'),\n",
              " ('صوتي', 'O'),\n",
              " ('ونور', 'O'),\n",
              " ('عينيّي', 'O'),\n",
              " ('عشقتك', 'O'),\n",
              " ('لأنك', 'O'),\n",
              " ('مهما', 'O'),\n",
              " ('تغيبي', 'O'),\n",
              " ('بترجعي', 'O'),\n",
              " ('ازرعلك', 'O'),\n",
              " ('وإمشي', 'O'),\n",
              " ('بهالمرجه', 'O'),\n",
              " ('انا', 'O'),\n",
              " ('أبلود', 'O'),\n",
              " ('وعملت', 'O'),\n",
              " ('زورق', 'O'),\n",
              " ('بهالنهر', 'O'),\n",
              " ('تتركضي', 'O'),\n",
              " ('وتسافري', 'O'),\n",
              " ('أحيانن', 'O'),\n",
              " ('مبارح', 'O'),\n",
              " ('اجو', 'O'),\n",
              " ('عالمنبر', 'O'),\n",
              " ('حسّيت', 'O'),\n",
              " ('انو', 'O'),\n",
              " ('المنبر', 'O'),\n",
              " ('تغيّر', 'O'),\n",
              " ('واصفرّ', 'O'),\n",
              " ('لونو', 'O'),\n",
              " ('عشب', 'O'),\n",
              " ('الصيف', 'B-DATE'),\n",
              " ('الدفّ', 'O'),\n",
              " ('انخجل', 'O'),\n",
              " ('وتشوّه', 'O'),\n",
              " ('المنظر', 'O'),\n",
              " ('قلتلهن', 'O'),\n",
              " ('شعر', 'O'),\n",
              " ('ياحيف', 'O'),\n",
              " ('يموت', 'O'),\n",
              " ('وما', 'O'),\n",
              " ('يبقى', 'O'),\n",
              " ('هالغصن', 'O'),\n",
              " ('حباب', 'O'),\n",
              " ('طيف', 'O'),\n",
              " ('منّو', 'O'),\n",
              " ('شكل', 'O'),\n",
              " ('ومجسّم', 'O'),\n",
              " ('محجّر', 'O'),\n",
              " ('للناس', 'O'),\n",
              " ('الكيف', 'O'),\n",
              " ('ببلادنا', 'O'),\n",
              " ('بيدر', 'O'),\n",
              " ('إدّعاء', 'O'),\n",
              " ('وزيف', 'O'),\n",
              " ('ومتلو', 'O'),\n",
              " ('بالخابيه', 'O'),\n",
              " ('مخمّر', 'O'),\n",
              " ('التحدي', 'O'),\n",
              " ('بكون', 'O'),\n",
              " ('السيف', 'O'),\n",
              " ('ووقت', 'O'),\n",
              " ('المرح', 'O'),\n",
              " ('اعذب', 'O'),\n",
              " ('الكوثر', 'O'),\n",
              " ('مِنّي', 'O'),\n",
              " ('نصيحه', 'O'),\n",
              " ('راقبو', 'O'),\n",
              " ('أسوء', 'O'),\n",
              " ('محل', 'O'),\n",
              " ('عامل', 'O'),\n",
              " ('عرض', 'O'),\n",
              " ('3', 'B-CARDINAL'),\n",
              " ('أحذية', 'O'),\n",
              " ('بسعر', 'O'),\n",
              " ('2', 'B-CARDINAL'),\n",
              " ('،', 'O'),\n",
              " ('تلات', 'B-CARDINAL'),\n",
              " ('نسوان', 'O'),\n",
              " ('كانوا', 'O'),\n",
              " ('بعض', 'O'),\n",
              " ('يشتروا', 'O'),\n",
              " ('وعم', 'O'),\n",
              " ('يحكوا', 'O'),\n",
              " ('عربي', 'B-LANGUAGE'),\n",
              " ('واقف', 'O'),\n",
              " ('وهني', 'O'),\n",
              " ('ورايي', 'O'),\n",
              " ('بتقول', 'O'),\n",
              " ('وحدة', 'O'),\n",
              " ('منن', 'O'),\n",
              " ('للتانية', 'O'),\n",
              " (':', 'O'),\n",
              " (\"'\", 'O'),\n",
              " ('هالصباط', 'O'),\n",
              " ('شو', 'O'),\n",
              " ('حلو', 'O'),\n",
              " ('وجّك', 'O'),\n",
              " ('بالظبط', 'O'),\n",
              " ('هيدا', 'O'),\n",
              " ('اكيد', 'O'),\n",
              " ('زلمة', 'O'),\n",
              " ('عربي', 'B-NORP'),\n",
              " ('مزوج', 'O'),\n",
              " ('وباعتن', 'O'),\n",
              " ('يوفّر', 'O'),\n",
              " ('ع', 'O'),\n",
              " ('حاله', 'O'),\n",
              " ('مدة', 'O'),\n",
              " ('بمناسبة', 'O'),\n",
              " ('وتعرفت', 'O'),\n",
              " ('صبية', 'O'),\n",
              " ('اسبانية', 'B-NORP'),\n",
              " ('حديث', 'O'),\n",
              " ('لحديث', 'O'),\n",
              " ('قالت', 'O'),\n",
              " ('انها', 'O'),\n",
              " ('مقاطعة', 'O'),\n",
              " ('منتجات', 'O'),\n",
              " ('الكيان', 'B-GOV'),\n",
              " ('عالحماس', 'O'),\n",
              " ('قلتلها', 'O'),\n",
              " ('بحبك', 'O'),\n",
              " ('أضرب', 'O'),\n",
              " ('فكرت', 'O'),\n",
              " ('امزح', 'O'),\n",
              " ('بينما', 'O'),\n",
              " ('عنجد', 'O'),\n",
              " ('قاصد', 'O'),\n",
              " ('للي', 'O'),\n",
              " ('قلته', 'O'),\n",
              " ('وبلشت', 'O'),\n",
              " ('فكر', 'O'),\n",
              " ('بأسماء', 'O'),\n",
              " ('الولاد', 'O'),\n",
              " ('الأول', 'O'),\n",
              " ('يكون', 'O'),\n",
              " ('اسمه', 'O'),\n",
              " ('مركب', 'O'),\n",
              " ('راؤول', 'B-PERS'),\n",
              " ('علي', 'I-PERS'),\n",
              " ('الأكبر', 'I-PERS'),\n",
              " ('مبارح', 'B-DATE'),\n",
              " ('لم', 'O'),\n",
              " ('يصنع', 'O'),\n",
              " ('ابطالا', 'O'),\n",
              " ('يعني', 'O'),\n",
              " ('القاضي', 'B-OCC'),\n",
              " ('الجهة', 'O'),\n",
              " ('الحزبية', 'O'),\n",
              " ('داعميته', 'O'),\n",
              " ('ياخدوا', 'O'),\n",
              " ('ثقة', 'O'),\n",
              " ('الشعب', 'O'),\n",
              " ('خلال', 'O'),\n",
              " ('هالقرار', 'O'),\n",
              " ('كتير', 'O'),\n",
              " ('مهم', 'O'),\n",
              " ('لأن', 'O'),\n",
              " ('كشف', 'O'),\n",
              " ('ناس', 'O'),\n",
              " ('حقيقتن', 'O'),\n",
              " ('وكمان', 'O'),\n",
              " ('التلفزيونات', 'O'),\n",
              " ('عاملين', 'O'),\n",
              " ('حالن', 'O'),\n",
              " ('غيفارا', 'B-PERS'),\n",
              " ('الثورة', 'O'),\n",
              " ('بعرف', 'O'),\n",
              " ('بنات', 'O'),\n",
              " ('الصبح', 'O'),\n",
              " ('بيوقفوا', 'O'),\n",
              " ('إدام', 'O'),\n",
              " ('المراية', 'O'),\n",
              " ('وبيقولوا', 'O'),\n",
              " ('لحالن', 'O'),\n",
              " ('يقبرني', 'O'),\n",
              " ('جمالك', 'O'),\n",
              " ('بيرجعوا', 'O'),\n",
              " ('بيجوا', 'O'),\n",
              " ('بيتمسخروا', 'O'),\n",
              " ('عالناس', 'O'),\n",
              " ('بيعملوا', 'O'),\n",
              " ('لايك', 'O'),\n",
              " ('أمّا', 'O'),\n",
              " ('بعملّك', 'O'),\n",
              " ('؟', 'O'),\n",
              " ('حط', 'O'),\n",
              " ('صورة', 'O'),\n",
              " ('الزعيم', 'O'),\n",
              " ('قلي', 'O'),\n",
              " ('بيي', 'O'),\n",
              " ('ممنوع', 'O'),\n",
              " ('احكي', 'O'),\n",
              " ('عنه', 'O'),\n",
              " ('وشوف', 'O'),\n",
              " ('كيف', 'O'),\n",
              " ('فجأة', 'O'),\n",
              " ('بتختفي', 'O'),\n",
              " ('عندي', 'O'),\n",
              " ('تفاجأت', 'O'),\n",
              " ('إستقلالية', 'O'),\n",
              " ('بفقرة', 'O'),\n",
              " ('الطبخ', 'O'),\n",
              " ('كبة', 'O'),\n",
              " ('برغل', 'O'),\n",
              " ('بطاطا', 'O'),\n",
              " ('هودي', 'O'),\n",
              " ('واصلة', 'O'),\n",
              " ('الأزمة', 'O'),\n",
              " ('الاقتصادية', 'O'),\n",
              " ('عندن', 'O'),\n",
              " ('للركب', 'O'),\n",
              " ('أو', 'O'),\n",
              " ('مستلمة', 'O'),\n",
              " ('ادارة', 'O'),\n",
              " ('المحطة', 'O'),\n",
              " ('اليوم', 'B-DATE'),\n",
              " ('شي', 'O'),\n",
              " ('غريب', 'O'),\n",
              " ('يستر', 'O'),\n",
              " ('لوين', 'O'),\n",
              " ('رايحة', 'O'),\n",
              " ('فينا', 'O'),\n",
              " ('الحياة', 'O'),\n",
              " ('وكيف', 'O'),\n",
              " ('تغيرت', 'O'),\n",
              " ('هالعالم', 'O'),\n",
              " ('و', 'O'),\n",
              " ('انتهى', 'O'),\n",
              " ('الموضوع', 'O'),\n",
              " ('قالولي', 'O'),\n",
              " ('لي', 'O'),\n",
              " ('الفرق', 'O'),\n",
              " ('مثلاً', 'O'),\n",
              " ('بتاكل', 'O'),\n",
              " ('سمك', 'O'),\n",
              " ('بل', 'O'),\n",
              " ('العكس', 'O'),\n",
              " ('مسؤولتي', 'O'),\n",
              " ('بتصير', 'O'),\n",
              " ('تدلني', 'O'),\n",
              " ('امرار', 'O'),\n",
              " ('اطباق', 'O'),\n",
              " ('لحمة', 'O'),\n",
              " ('عشان', 'O'),\n",
              " ('كون', 'O'),\n",
              " ('محدود', 'O'),\n",
              " ('بخياراتي', 'O'),\n",
              " ('هيك', 'O'),\n",
              " ('قصة', 'O'),\n",
              " ('تانية', 'O'),\n",
              " ('صارت', 'O'),\n",
              " ('موظفة', 'O'),\n",
              " ('معنا', 'O'),\n",
              " ('عمرها', 'B-DATE'),\n",
              " ('بالستين', 'I-DATE'),\n",
              " ('مكتبها', 'O'),\n",
              " ('دغري', 'O'),\n",
              " ('بوج', 'O'),\n",
              " ('مكتبي', 'O'),\n",
              " ('بتعرف', 'O'),\n",
              " ('مسلم', 'B-NORP'),\n",
              " ('الإسم', 'O'),\n",
              " ('مرة', 'O'),\n",
              " ('كانت', 'O'),\n",
              " ('تضيفني', 'O'),\n",
              " ('فالمهم', 'O'),\n",
              " ('بختار', 'O'),\n",
              " ('إلنا', 'O'),\n",
              " ('مغلفة', 'O'),\n",
              " ('قلت', 'O'),\n",
              " ('بشوف', 'O'),\n",
              " ('مكتوب', 'O'),\n",
              " ('عليها', 'O'),\n",
              " ('المكونات', 'O'),\n",
              " ('قالتلي', 'O'),\n",
              " ('انتبه', 'O'),\n",
              " ('إلي', 'O'),\n",
              " ('فيها', 'O'),\n",
              " ('كحول', 'O'),\n",
              " ('أنت', 'O'),\n",
              " ('اختارتلي', 'O'),\n",
              " ('عشت', 'O'),\n",
              " ('طفولتي', 'O'),\n",
              " ('لحد', 'O'),\n",
              " ('صفوف', 'O'),\n",
              " ('الثانوي', 'O'),\n",
              " ('ببيت', 'O'),\n",
              " ('صغير', 'O'),\n",
              " ('كنا', 'O'),\n",
              " ('نكبر', 'O'),\n",
              " ('والبيت', 'O'),\n",
              " ('يكبر', 'O'),\n",
              " ('البيت', 'O'),\n",
              " ('تعبان', 'O'),\n",
              " ('والدهان', 'O'),\n",
              " ('مقشر', 'O'),\n",
              " ('والسقف', 'O'),\n",
              " ('ينش', 'O'),\n",
              " ('والغرف', 'O'),\n",
              " ('تساعنا', 'O'),\n",
              " ('والشوب', 'O'),\n",
              " ('خانق', 'O'),\n",
              " ('والبرندة', 'O'),\n",
              " ('اطيب', 'O'),\n",
              " ('الا', 'O'),\n",
              " ('عالدكنجي', 'B-OCC'),\n",
              " ('بهالوقت', 'O'),\n",
              " ('كان', 'O'),\n",
              " ('بابا', 'O'),\n",
              " ('يعمر', 'O'),\n",
              " ('بيت', 'O'),\n",
              " ('جديد', 'O'),\n",
              " ('بأرض', 'O'),\n",
              " ('واسعة', 'O'),\n",
              " ('الأسوء', 'O'),\n",
              " ('بستان', 'O'),\n",
              " ('وجنينة', 'O'),\n",
              " ('وملعب', 'O'),\n",
              " ('وكنا', 'O'),\n",
              " ('نقلو', 'O'),\n",
              " ('بدنا', 'O'),\n",
              " ('احلام', 'O'),\n",
              " ('حابين', 'O'),\n",
              " ('غرفنا', 'O'),\n",
              " ('التفاصيل', 'O'),\n",
              " ('ونقلنا', 'O'),\n",
              " ('عالبيت', 'O'),\n",
              " ('الجديد', 'O'),\n",
              " ('الواسع', 'O'),\n",
              " ('والمريح', 'O'),\n",
              " ('وبعدني', 'O'),\n",
              " ('امرق', 'O'),\n",
              " ('حد', 'O'),\n",
              " ('بيتنا', 'O'),\n",
              " ('القديم', 'O'),\n",
              " ('المعفن', 'O'),\n",
              " ('الأشپمان', 'O'),\n",
              " ('هج', 'O'),\n",
              " ('منو', 'O'),\n",
              " ('ببكي', 'O'),\n",
              " ('بحن', 'O'),\n",
              " ('بشكل', 'O'),\n",
              " ('طبيعي', 'O'),\n",
              " ('لكل', 'O'),\n",
              " ('الذكريات', 'O'),\n",
              " ('فيه', 'O'),\n",
              " ('برجع', 'O'),\n",
              " ('بذكر', 'O'),\n",
              " ('بشع', 'O'),\n",
              " ('انت', 'O'),\n",
              " ('امك', 'O'),\n",
              " ('معك', 'O'),\n",
              " ('بفرنسا', 'B-COUNTRY'),\n",
              " ('طز', 'O'),\n",
              " ('عريحة', 'O'),\n",
              " ('لبنان', 'B-COUNTRY'),\n",
              " ('إندم', 'O'),\n",
              " ('هالبوست', 'O'),\n",
              " ('وبعرف', 'O'),\n",
              " ('إن', 'O'),\n",
              " ('ممكن', 'O'),\n",
              " ('يصير', 'O'),\n",
              " ('خطر', 'O'),\n",
              " ('عليي', 'O'),\n",
              " ('فيي', 'O'),\n",
              " ('قول', 'O'),\n",
              " ('كلمة', 'O'),\n",
              " ('الحق', 'O'),\n",
              " ('بدها', 'O'),\n",
              " ('تزعج', 'O'),\n",
              " ('عصابة', 'O'),\n",
              " ('متعصبة', 'O'),\n",
              " ('متطرفة', 'O'),\n",
              " ('ألبوم', 'O'),\n",
              " ('عمرو', 'B-PERS'),\n",
              " ('دياب', 'I-PERS'),\n",
              " ('ومكرر', 'O'),\n",
              " ('صرلي', 'O'),\n",
              " ('سنتين', 'O'),\n",
              " ('مقاطع', 'O'),\n",
              " ('المطاعم', 'O'),\n",
              " ('والمؤسسات', 'O'),\n",
              " ('التجارية', 'O'),\n",
              " ('إنها', 'O'),\n",
              " ('مملوكة', 'O'),\n",
              " ('لزعيم', 'O'),\n",
              " ('سياسي', 'O'),\n",
              " ('فاسد', 'O'),\n",
              " ('زوجته', 'O'),\n",
              " ('بالإضافة', 'O'),\n",
              " ('للمهرجنات', 'B-EVENT'),\n",
              " ('الصيفية', 'I-EVENT'),\n",
              " ('ان', 'O'),\n",
              " ('يروح', 'O'),\n",
              " ('جزء', 'O'),\n",
              " ('ارباحها', 'O'),\n",
              " ('ربح', 'O'),\n",
              " ('معنوي', 'O'),\n",
              " ('عبر', 'O'),\n",
              " ('الترحيب', 'O'),\n",
              " ('واظهارن', 'O'),\n",
              " ('الاركيتيكتشر', 'O'),\n",
              " ('محبين', 'O'),\n",
              " ('للثقافة', 'O'),\n",
              " ('للفن', 'O'),\n",
              " ('ايه', 'O'),\n",
              " ('قصري', 'O'),\n",
              " ('وحولي', 'O'),\n",
              " ('النسوان', 'B-NORP'),\n",
              " ('آكل', 'O'),\n",
              " ('البربارة', 'O'),\n",
              " ('ومش', 'O'),\n",
              " ('ب', 'O'),\n",
              " ('يلي', 'O'),\n",
              " ('بلبنان', 'B-COUNTRY'),\n",
              " ('حرّض', 'O'),\n",
              " ('عالعنف', 'O'),\n",
              " ('تعليق', 'O'),\n",
              " ('المشانق', 'O'),\n",
              " ('للفاسدين', 'B-NORP'),\n",
              " ('كبير', 'O'),\n",
              " ('قامة', 'O'),\n",
              " ('وطنية', 'O'),\n",
              " ('بأكبر', 'O'),\n",
              " ('عنده', 'O'),\n",
              " ('مليون', 'B-CARDINAL'),\n",
              " ('شخص', 'O'),\n",
              " ('بيحبوه', 'O'),\n",
              " ('همي', 'O'),\n",
              " ('مكمل', 'O'),\n",
              " ('بالثورة', 'O'),\n",
              " ('الحقد', 'O'),\n",
              " ('يخلص', 'O'),\n",
              " ('لشوف', 'O'),\n",
              " ('الكبير', 'O'),\n",
              " ('بالحبس', 'O'),\n",
              " ('يتعذب', 'O'),\n",
              " ('قد', 'O'),\n",
              " ('هجر', 'O'),\n",
              " ('شباب', 'O'),\n",
              " ('وعلى', 'O'),\n",
              " ('قطع', 'O'),\n",
              " ('ارزاق', 'O'),\n",
              " ('بكى', 'O'),\n",
              " ('امات', 'O'),\n",
              " ('ولادن', 'O'),\n",
              " ('ليه', 'O'),\n",
              " ('البنت', 'O'),\n",
              " ('تترك', 'O'),\n",
              " ('تنزّل', 'O'),\n",
              " ('صوَر', 'O'),\n",
              " ('خيّها', 'O'),\n",
              " ('وتكتب', 'O'),\n",
              " ('الحقيقي', 'O'),\n",
              " ('هيداك', 'O'),\n",
              " ('حب', 'O'),\n",
              " ('مصنوع', 'O'),\n",
              " ('بالصين', 'B-COUNTRY'),\n",
              " ('وقال', 'O'),\n",
              " ('حربوقة', 'O'),\n",
              " ('خيها', 'O'),\n",
              " ('تحيّر', 'O'),\n",
              " ('المتابعين', 'B-NORP'),\n",
              " ('ولي', 'O'),\n",
              " ('خيّك', 'O'),\n",
              " ('بيّك', 'O'),\n",
              " ('وصّل', 'O'),\n",
              " ('عواكي', 'O'),\n",
              " ('قبرص', 'B-COUNTRY'),\n",
              " ('للصراحة', 'O'),\n",
              " ('بعدها', 'O'),\n",
              " ('الشمس', 'O'),\n",
              " ('بتشرق', 'O'),\n",
              " ('عادي', 'O'),\n",
              " ('غيابك', 'O'),\n",
              " ('الكواكب', 'O'),\n",
              " ('والنجوم', 'O'),\n",
              " ('مسارها', 'O'),\n",
              " ('كرمالك', 'O'),\n",
              " ('بحب', 'O'),\n",
              " ('الدجاج', 'O'),\n",
              " ('اكتر', 'O'),\n",
              " ('اللحمة', 'O'),\n",
              " ('والقهوة', 'O'),\n",
              " ('الشاي', 'O'),\n",
              " ('كمان', 'O'),\n",
              " ('نظامي', 'O'),\n",
              " ('الهضمي', 'O'),\n",
              " ('الخميس', 'B-DATE'),\n",
              " ('الجمعة', 'B-DATE'),\n",
              " ('الرزنامة', 'O'),\n",
              " ('والتوقيت', 'O'),\n",
              " ('العالمي', 'O'),\n",
              " ('بعدن', 'O'),\n",
              " ('ساعة', 'O'),\n",
              " ('بيغ', 'O'),\n",
              " ('انتِ', 'O'),\n",
              " ('...', 'O'),\n",
              " ('عارف', 'O'),\n",
              " ('هوي', 'O'),\n",
              " ('اختفى', 'O'),\n",
              " ('أكلة', 'O'),\n",
              " ('بالبيت', 'O'),\n",
              " ('وحس', 'O'),\n",
              " ('لمسة', 'O'),\n",
              " ('امي', 'O'),\n",
              " ('بالطبخة', 'O'),\n",
              " ('موجودة', 'O'),\n",
              " ('اشرح', 'O'),\n",
              " ('!', 'O'),\n",
              " ('بينشرح', 'O'),\n",
              " ('بينحس', 'O'),\n",
              " ('حق', 'O'),\n",
              " ('بعدني', 'O'),\n",
              " ('بتفلسف', 'O'),\n",
              " ('اختصر', 'O'),\n",
              " ('المقطع', 'O'),\n",
              " ('بكلمة', 'O'),\n",
              " ('اشتقتلك', 'O'),\n",
              " ('…', 'O'),\n",
              " ('رسميا', 'O'),\n",
              " ('اجمل', 'O'),\n",
              " ('بنت', 'O'),\n",
              " ('بشوفها', 'O'),\n",
              " ('جيت', 'O'),\n",
              " ('فرنسا', 'B-COUNTRY'),\n",
              " ('برأيي', 'O'),\n",
              " ('رفيقتي', 'O'),\n",
              " ('وقالت', 'O'),\n",
              " ('نفس', 'O'),\n",
              " ('الشي', 'O'),\n",
              " ('وبتعرفوا', 'O'),\n",
              " ('تقول', 'O'),\n",
              " ('حلوة', 'O'),\n",
              " ('ختم', 'O'),\n",
              " ('بالجودة', 'O'),\n",
              " ('فكرة', 'O'),\n",
              " ('عمرنا', 'O'),\n",
              " ('نقول', 'O'),\n",
              " ('هيدي', 'O'),\n",
              " ('عاجبة', 'O'),\n",
              " ('هالشب', 'O'),\n",
              " ('كراش', 'O'),\n",
              " ('جبتولنا', 'O'),\n",
              " ('ياها', 'O'),\n",
              " ('اول', 'O'),\n",
              " ('قريتها', 'O'),\n",
              " ('زمان', 'O'),\n",
              " ('قصدن', 'O'),\n",
              " ('المشروب', 'O'),\n",
              " ('صرت', 'O'),\n",
              " ('عمى', 'O'),\n",
              " ('هالدكاكين', 'O'),\n",
              " ('عنا', 'O'),\n",
              " ('بيجيبوا', 'O'),\n",
              " ('شكله', 'O'),\n",
              " ('الكراش', 'O'),\n",
              " ...]"
            ]
          },
          "execution_count": 11,
          "metadata": {},
          "output_type": "execute_result"
        }
      ],
      "source": [
        "unique_embeddings #new dataset after removing duplicates"
      ]
    },
    {
      "cell_type": "code",
      "execution_count": 12,
      "metadata": {},
      "outputs": [
        {
          "name": "stderr",
          "output_type": "stream",
          "text": [
            "C:\\Users\\Salma\\AppData\\Roaming\\Python\\Python311\\site-packages\\sklearn\\cluster\\_kmeans.py:1416: FutureWarning:\n",
            "\n",
            "The default value of `n_init` will change from 10 to 'auto' in 1.4. Set the value of `n_init` explicitly to suppress the warning\n",
            "\n"
          ]
        }
      ],
      "source": [
        "from sklearn.cluster import KMeans\n",
        "from sklearn.feature_extraction.text import CountVectorizer\n",
        "\n",
        "# Convert tokens into bag-of-words representation\n",
        "vectorizer = CountVectorizer()\n",
        "entity_bow = vectorizer.fit_transform([' '.join(tokens) for tokens in unique_embeddings])\n",
        "\n",
        "# Apply K-means clustering\n",
        "num_clusters = 2\n",
        "kmeans = KMeans(n_clusters=num_clusters)\n",
        "cluster_labels = kmeans.fit_predict(entity_bow)\n"
      ]
    },
    {
      "cell_type": "markdown",
      "metadata": {},
      "source": [
        "# Preprocessed Data Visualization"
      ]
    },
    {
      "cell_type": "code",
      "execution_count": 12,
      "metadata": {},
      "outputs": [],
      "source": [
        "entity_embeddings = {}\n",
        "for entity in label_counts.keys():\n",
        "    entity_embeddings[entity] = np.random.rand(5)  \n"
      ]
    },
    {
      "cell_type": "code",
      "execution_count": 13,
      "metadata": {},
      "outputs": [
        {
          "data": {
            "image/png": "[encoded data removed]",
            "text/plain": [
              "<Figure size 1000x800 with 1 Axes>"
            ]
          },
          "metadata": {},
          "output_type": "display_data"
        }
      ],
      "source": [
        "# Extract entities and embeddings\n",
        "entities = list(entity_embeddings.keys())\n",
        "embeddings = np.array(list(entity_embeddings.values()))\n",
        "# Plot\n",
        "plt.figure(figsize=(10, 8))\n",
        "plt.scatter(embeddings[:, 0], embeddings[:, 1], c='blue', alpha=0.5)\n",
        "plt.title('Entity Embeddings Visualization')\n",
        "plt.xlabel('Dimension 1')\n",
        "plt.ylabel('Dimension 2')\n",
        "\n",
        "# Annotate points with entity names\n",
        "for i, entity in enumerate(entities):\n",
        "    plt.annotate(entity, (embeddings[i, 0], embeddings[i, 1]))\n",
        "\n",
        "plt.show()"
      ]
    },
    {
      "cell_type": "code",
      "execution_count": 14,
      "metadata": {},
      "outputs": [
        {
          "name": "stderr",
          "output_type": "stream",
          "text": [
            "[nltk_data] Downloading package stopwords to\n",
            "[nltk_data]     C:\\Users\\Salma\\AppData\\Roaming\\nltk_data...\n",
            "[nltk_data]   Package stopwords is already up-to-date!\n"
          ]
        },
        {
          "data": {
            "text/plain": [
              "True"
            ]
          },
          "execution_count": 14,
          "metadata": {},
          "output_type": "execute_result"
        }
      ],
      "source": [
        "nltk.download('stopwords')"
      ]
    },
    {
      "cell_type": "markdown",
      "metadata": {},
      "source": [
        "Removing stop words"
      ]
    },
    {
      "cell_type": "code",
      "execution_count": 15,
      "metadata": {},
      "outputs": [
        {
          "name": "stdout",
          "output_type": "stream",
          "text": [
            "{'هَؤلاء', 'هذان', 'تعسا', 'أي', 'ذين', 'هيا', 'عامة', 'سبعون', 'والذي', 'يوليو', 'ذانِ', 'اللذين', 'عدا', 'رجع', 'إذما', 'دون', 'ماي', 'ثلاث', 'هناك', 'تلكم', 'زعم', 'عدَّ', 'غين', 'ذاك', 'ذ', 'أفعل به', 'خمس', 'أيار', 'ؤ', 'إنَّ', 'ه', 'ثامن', 'ليستا', 'غدا', 'بيد', 'أصلا', 'أمد', 'ثمة', 'تلكما', 'مكانكم', 'إن', 'وإذا', 'نيسان', 'مساء', 'درى', 'نَّ', 'فيما', 'رويدك', 'بمن', 'ذه', 'عليه', 'إليكن', 'د', 'لكي', 'كأيّن', 'حزيران', 'هَاتِي', 'فلا', 'سبعمئة', 'أربعة', 'تموز', 'علق', 'ع', 'ستمائة', 'يفعلون', 'نفس', 'آه', 'شرع', 'أصبح', 'سقى', 'ثمان', 'ذينك', 'بخٍ', 'مه', 'لستن', 'فبراير', 'هيهات', 'أيلول', 'الذين', 'معاذ', 'ذلكما', 'لك', 'سوى', 'خ', 'آمينَ', 'حيث', 'ذان', 'إياهم', 'هذه', 'لكنَّ', 'جير', 'إلَيْكَ', 'ثماني', 'تسعة', 'إليكَ', 'لبيك', 'إليكنّ', 'مذ', 'أنتِ', 'مليم', 'بلى', 'لعلَّ', 'أمامك', 'دولار', 'تِي', 'ذال', 'شيكل', 'لمّا', 'ثلاثمائة', 'عاد', 'هاهنا', 'كِخ', 'كأين', 'ثلاثمئة', 'ذلكن', 'إلى', 'ذا', 'اللتين', 'إليك', 'إي', 'ليس', 'ثلاثة', 'نوفمبر', 'عل', 'إذا', 'أنّى', 'تفعلان', 'حيَّ', 'نحن', 'هنا', 'ذوا', 'ز', 'ليت', 'فيه', 'ميم', 'عن', 'ذِي', 'أنا', 'أولاء', 'طالما', 'صباح', 'أف', 'كيفما', 'ى', 'أيها', 'بسّ', 'وُشْكَانَ', 'لي', 'ك', 'ذو', 'أجل', 'تعلَّم', 'لدن', 'عند', 'منذ', 'كيف', 'عوض', 'ذواتا', 'كلا', 'كلاهما', 'جانفي', 'أكثر', 'مع', 'ريث', 'ذانك', 'نَخْ', 'يمين', 'أنشأ', 'ب', 'به', 'أمام', 'حادي', 'هؤلاء', 'سحقا', 'آي', 'لدى', 'هلّا', 'إياكما', 'سبحان', 'اخلولق', 'خلا', 'باء', 'ئ', 'هبّ', 'أينما', 'لا', 'أنتم', 'إنما', 'خميس', 'كاف', 'عاشر', 'صبرا', 'لم', 'أضحى', 'ثمّ', 'أنتما', 'خلف', 'آها', 'ته', 'لهن', 'كأن', 'ليرة', 'غ', 'رأى', 'تينك', 'آنفا', 'قبل', 'اللاتي', 'رابع', 'اثنا', 'مارس', 'تين', 'ثاء', 'الألاء', 'ثلاثين', 'مايو', 'هَذِي', 'والذين', 'كى', 'أهلا', 'ءَ', 'أول', 'ذَيْنِ', 'ج', 'طاق', 'أبو', 'حمدا', 'كل', 'عليك', 'إنا', 'تشرين', 'أفريل', 'أمس', 'تسعمئة', 'ح', 'لئن', 'إى', 'تبدّل', 'طاء', 'ثم', 'أجمع', 'زاي', 'هذي', 'أيّان', 'ثان', 'بماذا', 'سرا', 'هَاتِه', 'صاد', 'تاسع', 'زود', 'أن', 'تسع', 'لسن', 'تانِك', 'آهٍ', 'مافتئ', 'كاد', 'تَيْنِ', 'أقل', 'أعلم', 'بخ', 'بين', 'حين', 'كما', 'هللة', 'هاتي', 'جعل', 'حجا', 'فرادى', 'ديسمبر', 'كسا', 'لكما', 'ما', 'ليست', 'أما', 'بعض', 'إذاً', 'أ', 'فيم', 'ليسوا', 'بعد', 'اللائي', 'و', 'ضاد', 'بس', 'لهم', 'فوق', 'ألفى', 'حار', 'تِه', 'كلتا', 'ألف', 'مادام', 'ش', 'وما', 'أوه', 'دال', 'إياها', 'تخذ', 'سوف', 'جميع', 'في', 'اثني', 'ها', 'ذي', 'رزق', 'دواليك', 'آهِ', 'هذين', 'وهو', 'له', 'تسعون', 'ثلاثون', 'أنًّ', 'كأيّ', 'على', 'أين', 'إيانا', 'حَذارِ', 'أربعمائة', 'سبتمبر', 'سنتيم', 'ورد', 'وإذ', 'ثمانون', 'ط', 'فلس', 'غالبا', 'اثنين', 'خمسين', 'ستمئة', 'واحد', 'آب', 'هَذا', 'ليسا', 'عيانا', 'أربعاء', 'إمّا', 'نيف', 'بطآن', 'اربعين', 'كذا', 'وا', 'غداة', 'وراءَك', 'لهما', 'بل', 'هَاتَيْنِ', 'كم', 'كلّما', 'بي', 'جوان', 'ت', 'لام', 'فيفري', 'جيم', 'لولا', 'رُبَّ', 'قاطبة', 'بها', 'هو', 'شمال', 'لا سيما', 'يا', 'إياهن', 'عشر', 'عشرون', 'تي', 'كرب', 'إلا', 'خامس', 'ثمانية', 'كان', 'هلم', 'لكيلا', 'هنالك', 'تجاه', 'مرّة', 'إياهما', 'دونك', 'آناء', 'إنه', 'مئة', 'أوت', 'ترك', 'ياء', 'حيثما', 'لها', 'إياي', 'اربعون', 'خمسون', 'قام', 'يناير', 'س', 'إيه', 'قاف', 'غادر', 'حاشا', 'نا', 'جلل', 'ست', 'هاك', 'ن', 'ذهب', 'أسكن', 'أعطى', 'لست', 'أبٌ', 'ثمانمئة', 'بضع', 'أولئك', 'كي', 'أكتوبر', 'تفعلين', 'ظاء', 'مكانكنّ', 'عشرة', 'تارة', 'مما', 'هن', 'كلما', 'لكم', 'آ', 'نون', 'استحال', 'لعمر', 'أمّا', 'هكذا', 'ما أفعله', 'هم', 'وإن', 'لن', 'هلا', 'بما', 'همزة', 'ظنَّ', 'يفعلان', 'عين', 'قد', 'أربعمئة', 'دينار', 'أخٌ', 'سين', 'خبَّر', 'اللواتي', 'أقبل', 'أبريل', 'ولا', 'صدقا', 'فإذا', 'أنبأ', 'متى', 'أفٍّ', 'الألى', 'شتانَ', 'فاء', 'اللتان', 'صهْ', 'هل', 'سبع', 'كلَّا', 'أربع', 'ق', 'صار', 'هي', 'حاي', 'تحت', 'لاسيما', 'شتان', 'منها', 'آذار', 'إياه', 'فيها', 'إياك', 'كثيرا', 'قلما', 'التي', 'إحدى', 'تلك', 'ما برح', 'بعدا', 'من', 'راء', 'طرا', 'أنت', 'بؤسا', 'مثل', 'إليكما', 'ممن', 'بكم', 'وجد', 'جنيه', 'اثنان', 'سبعين', 'أنتن', 'ألا', 'حقا', 'نحو', 'ث', 'إيهٍ', 'كأنما', 'وهب', 'بهن', 'عَدَسْ', 'فضلا', 'علي', 'كانون', 'هاتين', 'ساء', 'ظ', 'خمسمائة', 'حمٌ', 'شَتَّانَ', 'حاء', 'أم', 'إياكن', 'لو', 'شبه', 'بغتة', 'جمعة', 'أبدا', 'اللتيا', 'غير', 'أيا', 'شباط', 'خال', 'أخو', 'منه', 'أنى', 'ذلك', 'مكانَك', 'لنا', 'مائة', 'مئتان', 'مهما', 'كذلك', 'الآن', 'بات', 'إذ', 'أيّ', 'هَاتانِ', 'بهم', 'إلّا', 'لعل', 'جويلية', 'ا', 'نعم', 'أمامكَ', 'أوّهْ', 'أخذ', 'شين', 'تحوّل', 'ثاني', 'خمسة', 'ذيت', 'تاء', 'لكنما', 'صهٍ', 'سمعا', 'عما', 'أحد', 'ذلكم', 'أطعم', 'قرش', 'عجبا', 'طَق', 'صراحة', 'الذي', 'أو', 'ف', 'تانِ', 'هيت', 'مكانكما', 'ّأيّان', 'ثمّة', 'بكما', 'هاء', 'إياكم', 'لستم', 'لسنا', 'سبت', 'ذِه', 'كليهما', 'فو', 'درهم', 'سابع', 'واهاً', 'تفعلون', 'آض', 'لما', 'أمسى', 'ذات', 'كأنّ', 'ومن', 'عسى', 'ر', 'تسعمائة', 'فمن', 'بنا', 'بَلْهَ', 'ستة', 'قطّ', 'حرى', 'إذن', 'ي', 'اللذان', 'لات', 'ظلّ', 'أرى', 'لكن', 'راح', 'خاء', 'اتخذ', 'ثمَّ', 'حدَث', 'هاكَ', 'أولالك', 'هَذَيْنِ', 'خاصة', 'أُفٍّ', 'هيّا', 'كيت', 'هَيْهات', 'يونيو', 'ارتدّ', 'لوما', 'يوان', 'بئس', 'ريال', 'يورو', 'أغسطس', 'عشرين', 'صبر', 'بَسْ', 'ستين', 'ولو', 'هاتان', 'أل', 'أخبر', 'سبعة', 'ابتدأ', 'كليكما', 'كن', 'ما انفك', 'ة', 'هَذانِ', 'سادس', 'سرعان', 'ثمانين', 'بهما', 'ضحوة', 'ين', 'حبيب', 'نبَّا', 'أى', 'خمسمئة', 'طفق', 'فإن', 'ص', 'سبعمائة', 'ثمنمئة', 'ذواتي', 'ثالث', 'م', 'حسب', 'علًّ', 'حمو', 'هَذِه', 'ل', 'علم', 'تلقاء', 'ثلاثاء', 'إزاء', 'مازال', 'حبذا', 'لستما', 'حتى', 'خلافا', 'هذا', 'بكن', 'وَيْ', 'كأي', 'أيضا', 'ء', 'ض', 'ستون', 'إما', 'انقلب', 'هما', 'أوشك', 'واو', 'هَجْ', 'ماذا', 'تسعين', 'بك', 'هاته', 'آهاً', 'انبرى', 'فلان', 'إليكم', 'ولكن'}\n"
          ]
        }
      ],
      "source": [
        "arb_stopwords = set(nltk.corpus.stopwords.words(\"arabic\"))#set is better for performance\n",
        "arb_stopwords.add('إلى')\n",
        "arb_stopwords.add('علي')\n",
        "arb_stopwords.add('من')\n",
        "print(arb_stopwords)"
      ]
    },
    {
      "cell_type": "code",
      "execution_count": 16,
      "metadata": {},
      "outputs": [
        {
          "name": "stdout",
          "output_type": "stream",
          "text": [
            "51912\n"
          ]
        }
      ],
      "source": [
        "unique_embeddings = [emb for emb in unique_embeddings if emb[0] not in arb_stopwords]\n",
        "print(len(unique_embeddings))#after removing STOP WORDS\n",
        "   "
      ]
    },
    {
      "cell_type": "markdown",
      "metadata": {},
      "source": [
        "Remove any non Alphanumeric symbols"
      ]
    },
    {
      "cell_type": "code",
      "execution_count": 17,
      "metadata": {},
      "outputs": [
        {
          "data": {
            "text/plain": [
              "51740"
            ]
          },
          "execution_count": 17,
          "metadata": {},
          "output_type": "execute_result"
        }
      ],
      "source": [
        "unique_embeddings = [(re.sub(r'[^\\w]', '', emb[0]), emb[1]) for emb in unique_embeddings]\n",
        "unique_embeddings = [(text, num) for text, num in unique_embeddings if text]\n",
        "len(unique_embeddings)"
      ]
    },
    {
      "cell_type": "markdown",
      "metadata": {},
      "source": [
        "Removing English words"
      ]
    },
    {
      "cell_type": "code",
      "execution_count": 18,
      "metadata": {},
      "outputs": [
        {
          "data": {
            "text/plain": [
              "50054"
            ]
          },
          "execution_count": 18,
          "metadata": {},
          "output_type": "execute_result"
        }
      ],
      "source": [
        "unique_embeddings = [emb for emb in unique_embeddings if all(char not in string.ascii_letters for char in emb[0])]\n",
        "len(unique_embeddings)"
      ]
    },
    {
      "cell_type": "code",
      "execution_count": 19,
      "metadata": {},
      "outputs": [
        {
          "data": {
            "text/plain": [
              "Counter({'I-PERS': 1126,\n",
              "         'B-PERS': 921,\n",
              "         'B-NORP': 905,\n",
              "         'I-EVENT': 674,\n",
              "         'I-NORP': 659,\n",
              "         'I-NONGOV': 634,\n",
              "         'I-GOV': 553,\n",
              "         'B-ORDINAL': 537,\n",
              "         'I-DATE': 522,\n",
              "         'I-TOWN': 449,\n",
              "         'I-OCC': 430,\n",
              "         'B-DATE': 424,\n",
              "         'I-BUILDING-OR-GROUNDS': 419,\n",
              "         'B-GOV': 385,\n",
              "         'B-OCC': 363,\n",
              "         'B-TOWN': 331,\n",
              "         'B-EVENT': 279,\n",
              "         'B-CARDINAL': 273,\n",
              "         'B-NONGOV': 265,\n",
              "         'I-COM': 251,\n",
              "         'B-COUNTRY': 208,\n",
              "         'I-LAW': 175,\n",
              "         'I-EDU': 157,\n",
              "         'B-BUILDING-OR-GROUNDS': 142,\n",
              "         'B-STATE-OR-PROVINCE': 102,\n",
              "         'I-CAMP': 87,\n",
              "         'I-TIME': 86,\n",
              "         'I-LAND-REGION-NATURAL': 86,\n",
              "         'I-WEBSITE': 85,\n",
              "         'I-REGION-GENERAL': 81,\n",
              "         'B-MONEY': 79,\n",
              "         'I-MED': 79,\n",
              "         'I-SUBAREA-FACILITY': 79,\n",
              "         'I-CARDINAL': 76,\n",
              "         'I-SCI': 66,\n",
              "         'B-WEBSITE': 65,\n",
              "         'B-TIME': 64,\n",
              "         'I-STATE-OR-PROVINCE': 63,\n",
              "         'B-COM': 62,\n",
              "         'I-NEIGHBORHOOD': 57,\n",
              "         'I-ORDINAL': 57,\n",
              "         'I-PATH': 51,\n",
              "         'B-LANGUAGE': 49,\n",
              "         'I-MONEY': 47,\n",
              "         'B-EDU': 46,\n",
              "         'B-LAND-REGION-NATURAL': 46,\n",
              "         'I-COUNTRY': 41,\n",
              "         'B-PERCENT': 41,\n",
              "         'I-PRODUCT': 40,\n",
              "         'B-MED': 36,\n",
              "         'B-REGION-GENERAL': 34,\n",
              "         'B-SUBAREA-FACILITY': 34,\n",
              "         'B-QUANTITY': 31,\n",
              "         'I-CLUSTER': 30,\n",
              "         'B-NEIGHBORHOOD': 30,\n",
              "         'B-CLUSTER': 27,\n",
              "         'I-WATER-BODY': 26,\n",
              "         'B-PRODUCT': 26,\n",
              "         'I-QUANTITY': 24,\n",
              "         'I-REL': 24,\n",
              "         'B-SCI': 23,\n",
              "         'I-BOUNDARY': 23,\n",
              "         'B-CAMP': 20,\n",
              "         'B-LAW': 18,\n",
              "         'B-CONTINENT': 17,\n",
              "         'I-PERCENT': 15,\n",
              "         'B-WATER-BODY': 15,\n",
              "         'B-PATH': 12,\n",
              "         'I-SPO': 9,\n",
              "         'B-REL': 9,\n",
              "         'B-REGION-INTERNATIONAL': 9,\n",
              "         'I-REGION-INTERNATIONAL': 9,\n",
              "         'B-CURR': 8,\n",
              "         'B-SPO': 6,\n",
              "         'B-SPORT': 5,\n",
              "         'I-AIRPORT': 5,\n",
              "         'I-LANGUAGE': 4,\n",
              "         'B-UNIT': 4,\n",
              "         'B-BOUNDARY': 4,\n",
              "         'I-CONTINENT': 3,\n",
              "         'I-Cluster': 3,\n",
              "         'B-CELESTIAL': 2,\n",
              "         'I-PLANT': 2,\n",
              "         'B-ORG': 2,\n",
              "         'I-ORG': 2,\n",
              "         'I-CURR': 2,\n",
              "         'B-AIRPORT': 2,\n",
              "         'B-Cluster': 2,\n",
              "         'I-SPORT': 1,\n",
              "         'B-PLANT': 1,\n",
              "         'B-LAND': 1,\n",
              "         'I-Path': 1})"
            ]
          },
          "execution_count": 19,
          "metadata": {},
          "output_type": "execute_result"
        }
      ],
      "source": [
        "unique_labels =[]\n",
        "unique_tokens =[]\n",
        "for i in range(len(unique_embeddings)):\n",
        "    x = unique_embeddings[i][1]\n",
        "    y = unique_embeddings[i][0]\n",
        "    unique_labels.append(x)\n",
        "    unique_tokens.append(y)\n",
        "\n",
        "unique_label_counts = Counter(label for label in unique_labels if label != \"O\")\n",
        "unique_label_counts"
      ]
    },
    {
      "cell_type": "markdown",
      "metadata": {},
      "source": [
        "Removing Tashkeel and Tatweel"
      ]
    },
    {
      "cell_type": "code",
      "execution_count": 20,
      "metadata": {},
      "outputs": [],
      "source": [
        "for i in range(len(unique_tokens)):\n",
        "    unique_tokens[i]=araby.strip_tashkeel(unique_tokens[i])\n",
        "    unique_tokens[i]=araby.strip_tatweel(unique_tokens[i])\n"
      ]
    },
    {
      "cell_type": "markdown",
      "metadata": {},
      "source": [
        "Replacing ALEF_MADDA by ALEF"
      ]
    },
    {
      "cell_type": "code",
      "execution_count": 21,
      "metadata": {},
      "outputs": [],
      "source": [
        "\n",
        "for i in range(len(unique_tokens)):\n",
        "    if(araby.ALEF_MADDA in unique_tokens[i]):\n",
        "        unique_tokens[i]=unique_tokens[i].replace(araby.ALEF_MADDA,\"ا\")\n"
      ]
    },
    {
      "cell_type": "code",
      "execution_count": 22,
      "metadata": {},
      "outputs": [],
      "source": [
        "stemmer = FarasaStemmer()"
      ]
    },
    {
      "cell_type": "markdown",
      "metadata": {},
      "source": [
        "Removing 'ال' and 'و'and Stemming"
      ]
    },
    {
      "cell_type": "code",
      "execution_count": null,
      "metadata": {},
      "outputs": [],
      "source": [
        "stemmer = FarasaStemmer()\n",
        "unique_tokens = [(stemmer.stem(token)) for token in unique_tokens]"
      ]
    },
    {
      "cell_type": "markdown",
      "metadata": {},
      "source": [
        "Lemmatization"
      ]
    },
    {
      "cell_type": "code",
      "execution_count": 23,
      "metadata": {},
      "outputs": [],
      "source": [
        "lemmatizer = ISRIStemmer()\n",
        "lemmatized_tokens = [(lemmatizer.suf32(token)) for token in unique_tokens]"
      ]
    },
    {
      "cell_type": "markdown",
      "metadata": {},
      "source": [
        "Removing repeated letters (more than two letters)"
      ]
    },
    {
      "cell_type": "code",
      "execution_count": 24,
      "metadata": {},
      "outputs": [],
      "source": [
        "import re\n",
        "\n",
        "def remove_repeated_letters(text):\n",
        "    return re.sub(r'(.)\\1{2,}', r'\\1\\1', text)\n",
        "    \n",
        "for i, token in enumerate(unique_tokens):\n",
        "    unique_tokens[i] = remove_repeated_letters(token)\n"
      ]
    },
    {
      "cell_type": "code",
      "execution_count": null,
      "metadata": {},
      "outputs": [],
      "source": [
        "file_path = 'preprocessed_data.txt'\n",
        "\n",
        "with open(file_path, 'w', encoding='utf-8') as file:\n",
        "    for item, item1 in zip(unique_tokens, unique_labels):\n",
        "        file.write(f\"{item}\\t\")\n",
        "        file.write(f\"{item1}\\n\")\n",
        "\n",
        "print('Text file created successfully.')"
      ]
    }
  ],
  "metadata": {
    "colab": {
      "provenance": []
    },
    "kernelspec": {
      "display_name": "Python 3",
      "name": "python3"
    },
    "language_info": {
      "codemirror_mode": {
        "name": "ipython",
        "version": 3
      },
      "file_extension": ".py",
      "mimetype": "text/x-python",
      "name": "python",
      "nbconvert_exporter": "python",
      "pygments_lexer": "ipython3",
      "version": "3.11.5"
    }
  },
  "nbformat": 4,
  "nbformat_minor": 0
}
