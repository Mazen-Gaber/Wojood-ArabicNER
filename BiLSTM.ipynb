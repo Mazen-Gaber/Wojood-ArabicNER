{
  "cells": [
    {
      "cell_type": "markdown",
      "id": "7987fb79",
      "metadata": {},
      "source": [
        "### Required dependencies"
      ]
    },
    {
      "cell_type": "code",
      "execution_count": 1,
      "id": "dsvI7CPp_dQQ",
      "metadata": {
        "colab": {
          "base_uri": "https://localhost:8080/"
        },
        "execution": {
          "iopub.execute_input": "2024-05-16T20:31:09.477003Z",
          "iopub.status.busy": "2024-05-16T20:31:09.476715Z",
          "iopub.status.idle": "2024-05-16T20:31:23.470497Z",
          "shell.execute_reply": "2024-05-16T20:31:23.469326Z",
          "shell.execute_reply.started": "2024-05-16T20:31:09.476977Z"
        },
        "id": "dsvI7CPp_dQQ",
        "outputId": "4eafd32f-0220-4ce4-bc54-b6a268bee69e",
        "papermill": {
          "duration": 13.555587,
          "end_time": "2024-05-13T11:38:52.061459",
          "exception": false,
          "start_time": "2024-05-13T11:38:38.505872",
          "status": "completed"
        },
        "tags": [],
        "trusted": true
      },
      "outputs": [
        {
          "name": "stdout",
          "output_type": "stream",
          "text": [
            "Requirement already satisfied: keras in c:\\python\\python310\\lib\\site-packages (2.15.0)\n",
            "Note: you may need to restart the kernel to use updated packages.\n"
          ]
        }
      ],
      "source": [
        "%pip install keras"
      ]
    },
    {
      "cell_type": "code",
      "execution_count": 2,
      "id": "vy81jm4V_dQR",
      "metadata": {
        "colab": {
          "base_uri": "https://localhost:8080/"
        },
        "execution": {
          "iopub.execute_input": "2024-05-16T20:31:23.473448Z",
          "iopub.status.busy": "2024-05-16T20:31:23.473025Z",
          "iopub.status.idle": "2024-05-16T20:31:38.561879Z",
          "shell.execute_reply": "2024-05-16T20:31:38.560678Z",
          "shell.execute_reply.started": "2024-05-16T20:31:23.473409Z"
        },
        "id": "vy81jm4V_dQR",
        "outputId": "09d25ff8-6782-4acb-ce1b-5921c08f1b0f",
        "papermill": {
          "duration": 15.345529,
          "end_time": "2024-05-13T11:39:07.410385",
          "exception": false,
          "start_time": "2024-05-13T11:38:52.064856",
          "status": "completed"
        },
        "tags": [],
        "trusted": true
      },
      "outputs": [
        {
          "name": "stdout",
          "output_type": "stream",
          "text": [
            "Requirement already satisfied: tensorflow in c:\\python\\python310\\lib\\site-packages (2.15.0)\n",
            "Requirement already satisfied: tensorflow-intel==2.15.0 in c:\\python\\python310\\lib\\site-packages (from tensorflow) (2.15.0)\n",
            "Requirement already satisfied: absl-py>=1.0.0 in c:\\python\\python310\\lib\\site-packages (from tensorflow-intel==2.15.0->tensorflow) (2.1.0)\n",
            "Requirement already satisfied: astunparse>=1.6.0 in c:\\python\\python310\\lib\\site-packages (from tensorflow-intel==2.15.0->tensorflow) (1.6.3)\n",
            "Requirement already satisfied: flatbuffers>=23.5.26 in c:\\python\\python310\\lib\\site-packages (from tensorflow-intel==2.15.0->tensorflow) (23.5.26)\n",
            "Requirement already satisfied: gast!=0.5.0,!=0.5.1,!=0.5.2,>=0.2.1 in c:\\python\\python310\\lib\\site-packages (from tensorflow-intel==2.15.0->tensorflow) (0.4.0)\n",
            "Requirement already satisfied: google-pasta>=0.1.1 in c:\\python\\python310\\lib\\site-packages (from tensorflow-intel==2.15.0->tensorflow) (0.2.0)\n",
            "Requirement already satisfied: h5py>=2.9.0 in c:\\python\\python310\\lib\\site-packages (from tensorflow-intel==2.15.0->tensorflow) (3.11.0)\n",
            "Requirement already satisfied: libclang>=13.0.0 in c:\\python\\python310\\lib\\site-packages (from tensorflow-intel==2.15.0->tensorflow) (16.0.6)\n",
            "Requirement already satisfied: ml-dtypes~=0.2.0 in c:\\python\\python310\\lib\\site-packages (from tensorflow-intel==2.15.0->tensorflow) (0.2.0)\n",
            "Requirement already satisfied: numpy<2.0.0,>=1.23.5 in c:\\python\\python310\\lib\\site-packages (from tensorflow-intel==2.15.0->tensorflow) (1.26.4)\n",
            "Requirement already satisfied: opt-einsum>=2.3.2 in c:\\python\\python310\\lib\\site-packages (from tensorflow-intel==2.15.0->tensorflow) (3.3.0)\n",
            "Requirement already satisfied: packaging in c:\\python\\python310\\lib\\site-packages (from tensorflow-intel==2.15.0->tensorflow) (23.1)\n",
            "Requirement already satisfied: protobuf!=4.21.0,!=4.21.1,!=4.21.2,!=4.21.3,!=4.21.4,!=4.21.5,<5.0.0dev,>=3.20.3 in c:\\python\\python310\\lib\\site-packages (from tensorflow-intel==2.15.0->tensorflow) (4.25.3)\n",
            "Requirement already satisfied: setuptools in c:\\python\\python310\\lib\\site-packages (from tensorflow-intel==2.15.0->tensorflow) (63.2.0)\n",
            "Requirement already satisfied: six>=1.12.0 in c:\\python\\python310\\lib\\site-packages (from tensorflow-intel==2.15.0->tensorflow) (1.16.0)\n",
            "Requirement already satisfied: termcolor>=1.1.0 in c:\\python\\python310\\lib\\site-packages (from tensorflow-intel==2.15.0->tensorflow) (2.4.0)\n",
            "Requirement already satisfied: typing-extensions>=3.6.6 in c:\\python\\python310\\lib\\site-packages (from tensorflow-intel==2.15.0->tensorflow) (4.8.0)\n",
            "Requirement already satisfied: wrapt<1.15,>=1.11.0 in c:\\python\\python310\\lib\\site-packages (from tensorflow-intel==2.15.0->tensorflow) (1.14.1)\n",
            "Requirement already satisfied: tensorflow-io-gcs-filesystem>=0.23.1 in c:\\python\\python310\\lib\\site-packages (from tensorflow-intel==2.15.0->tensorflow) (0.31.0)\n",
            "Requirement already satisfied: grpcio<2.0,>=1.24.3 in c:\\python\\python310\\lib\\site-packages (from tensorflow-intel==2.15.0->tensorflow) (1.62.0)\n",
            "Requirement already satisfied: tensorboard<2.16,>=2.15 in c:\\python\\python310\\lib\\site-packages (from tensorflow-intel==2.15.0->tensorflow) (2.15.2)\n",
            "Requirement already satisfied: tensorflow-estimator<2.16,>=2.15.0 in c:\\python\\python310\\lib\\site-packages (from tensorflow-intel==2.15.0->tensorflow) (2.15.0)\n",
            "Requirement already satisfied: keras<2.16,>=2.15.0 in c:\\python\\python310\\lib\\site-packages (from tensorflow-intel==2.15.0->tensorflow) (2.15.0)\n",
            "Requirement already satisfied: wheel<1.0,>=0.23.0 in c:\\python\\python310\\lib\\site-packages (from astunparse>=1.6.0->tensorflow-intel==2.15.0->tensorflow) (0.42.0)\n",
            "Requirement already satisfied: google-auth<3,>=1.6.3 in c:\\python\\python310\\lib\\site-packages (from tensorboard<2.16,>=2.15->tensorflow-intel==2.15.0->tensorflow) (2.28.1)\n",
            "Requirement already satisfied: google-auth-oauthlib<2,>=0.5 in c:\\python\\python310\\lib\\site-packages (from tensorboard<2.16,>=2.15->tensorflow-intel==2.15.0->tensorflow) (1.2.0)\n",
            "Requirement already satisfied: markdown>=2.6.8 in c:\\python\\python310\\lib\\site-packages (from tensorboard<2.16,>=2.15->tensorflow-intel==2.15.0->tensorflow) (3.5.2)\n",
            "Requirement already satisfied: requests<3,>=2.21.0 in c:\\python\\python310\\lib\\site-packages (from tensorboard<2.16,>=2.15->tensorflow-intel==2.15.0->tensorflow) (2.31.0)\n",
            "Requirement already satisfied: tensorboard-data-server<0.8.0,>=0.7.0 in c:\\python\\python310\\lib\\site-packages (from tensorboard<2.16,>=2.15->tensorflow-intel==2.15.0->tensorflow) (0.7.2)\n",
            "Requirement already satisfied: werkzeug>=1.0.1 in c:\\python\\python310\\lib\\site-packages (from tensorboard<2.16,>=2.15->tensorflow-intel==2.15.0->tensorflow) (3.0.1)\n",
            "Requirement already satisfied: cachetools<6.0,>=2.0.0 in c:\\python\\python310\\lib\\site-packages (from google-auth<3,>=1.6.3->tensorboard<2.16,>=2.15->tensorflow-intel==2.15.0->tensorflow) (5.3.3)\n",
            "Requirement already satisfied: pyasn1-modules>=0.2.1 in c:\\python\\python310\\lib\\site-packages (from google-auth<3,>=1.6.3->tensorboard<2.16,>=2.15->tensorflow-intel==2.15.0->tensorflow) (0.3.0)\n",
            "Requirement already satisfied: rsa<5,>=3.1.4 in c:\\python\\python310\\lib\\site-packages (from google-auth<3,>=1.6.3->tensorboard<2.16,>=2.15->tensorflow-intel==2.15.0->tensorflow) (4.9)\n",
            "Requirement already satisfied: requests-oauthlib>=0.7.0 in c:\\python\\python310\\lib\\site-packages (from google-auth-oauthlib<2,>=0.5->tensorboard<2.16,>=2.15->tensorflow-intel==2.15.0->tensorflow) (1.3.1)\n",
            "Requirement already satisfied: charset-normalizer<4,>=2 in c:\\python\\python310\\lib\\site-packages (from requests<3,>=2.21.0->tensorboard<2.16,>=2.15->tensorflow-intel==2.15.0->tensorflow) (3.3.0)\n",
            "Requirement already satisfied: idna<4,>=2.5 in c:\\python\\python310\\lib\\site-packages (from requests<3,>=2.21.0->tensorboard<2.16,>=2.15->tensorflow-intel==2.15.0->tensorflow) (3.4)\n",
            "Requirement already satisfied: urllib3<3,>=1.21.1 in c:\\python\\python310\\lib\\site-packages (from requests<3,>=2.21.0->tensorboard<2.16,>=2.15->tensorflow-intel==2.15.0->tensorflow) (2.0.5)\n",
            "Requirement already satisfied: certifi>=2017.4.17 in c:\\python\\python310\\lib\\site-packages (from requests<3,>=2.21.0->tensorboard<2.16,>=2.15->tensorflow-intel==2.15.0->tensorflow) (2023.7.22)\n",
            "Requirement already satisfied: MarkupSafe>=2.1.1 in c:\\python\\python310\\lib\\site-packages (from werkzeug>=1.0.1->tensorboard<2.16,>=2.15->tensorflow-intel==2.15.0->tensorflow) (2.1.3)\n",
            "Requirement already satisfied: pyasn1<0.6.0,>=0.4.6 in c:\\python\\python310\\lib\\site-packages (from pyasn1-modules>=0.2.1->google-auth<3,>=1.6.3->tensorboard<2.16,>=2.15->tensorflow-intel==2.15.0->tensorflow) (0.5.1)\n",
            "Requirement already satisfied: oauthlib>=3.0.0 in c:\\python\\python310\\lib\\site-packages (from requests-oauthlib>=0.7.0->google-auth-oauthlib<2,>=0.5->tensorboard<2.16,>=2.15->tensorflow-intel==2.15.0->tensorflow) (3.2.2)\n",
            "Note: you may need to restart the kernel to use updated packages.\n"
          ]
        }
      ],
      "source": [
        "%pip install tensorflow"
      ]
    },
    {
      "cell_type": "code",
      "execution_count": 3,
      "id": "MXZzttoS_dQR",
      "metadata": {
        "colab": {
          "base_uri": "https://localhost:8080/"
        },
        "execution": {
          "iopub.execute_input": "2024-05-16T20:31:38.563916Z",
          "iopub.status.busy": "2024-05-16T20:31:38.563522Z",
          "iopub.status.idle": "2024-05-16T20:31:51.251105Z",
          "shell.execute_reply": "2024-05-16T20:31:51.250042Z",
          "shell.execute_reply.started": "2024-05-16T20:31:38.563875Z"
        },
        "id": "MXZzttoS_dQR",
        "outputId": "f8550f3c-9c39-4005-ff79-bf93a0571be6",
        "trusted": true
      },
      "outputs": [
        {
          "name": "stdout",
          "output_type": "stream",
          "text": [
            "Requirement already satisfied: keras-preprocessing in c:\\python\\python310\\lib\\site-packages (1.1.2)\n",
            "Requirement already satisfied: numpy>=1.9.1 in c:\\python\\python310\\lib\\site-packages (from keras-preprocessing) (1.26.4)\n",
            "Requirement already satisfied: six>=1.9.0 in c:\\python\\python310\\lib\\site-packages (from keras-preprocessing) (1.16.0)\n",
            "Note: you may need to restart the kernel to use updated packages.\n"
          ]
        }
      ],
      "source": [
        "%pip install keras-preprocessing"
      ]
    },
    {
      "cell_type": "code",
      "execution_count": 4,
      "id": "I53rLpQy_dQS",
      "metadata": {
        "colab": {
          "base_uri": "https://localhost:8080/"
        },
        "execution": {
          "iopub.execute_input": "2024-05-16T20:31:51.255489Z",
          "iopub.status.busy": "2024-05-16T20:31:51.254734Z",
          "iopub.status.idle": "2024-05-16T20:32:03.465119Z",
          "shell.execute_reply": "2024-05-16T20:32:03.464108Z",
          "shell.execute_reply.started": "2024-05-16T20:31:51.255454Z"
        },
        "id": "I53rLpQy_dQS",
        "outputId": "3e08b05d-3f02-428c-85ba-ddfa9e931225",
        "trusted": true
      },
      "outputs": [
        {
          "name": "stdout",
          "output_type": "stream",
          "text": [
            "Requirement already satisfied: gensim in c:\\python\\python310\\lib\\site-packages (4.3.2)\n",
            "Requirement already satisfied: numpy>=1.18.5 in c:\\python\\python310\\lib\\site-packages (from gensim) (1.26.4)\n",
            "Requirement already satisfied: scipy>=1.7.0 in c:\\python\\python310\\lib\\site-packages (from gensim) (1.11.3)\n",
            "Requirement already satisfied: smart-open>=1.8.1 in c:\\python\\python310\\lib\\site-packages (from gensim) (7.0.4)\n",
            "Requirement already satisfied: wrapt in c:\\python\\python310\\lib\\site-packages (from smart-open>=1.8.1->gensim) (1.14.1)\n",
            "Note: you may need to restart the kernel to use updated packages.\n"
          ]
        }
      ],
      "source": [
        "%pip install gensim"
      ]
    },
    {
      "cell_type": "markdown",
      "id": "77442eb8",
      "metadata": {},
      "source": [
        "### Imports"
      ]
    },
    {
      "cell_type": "code",
      "execution_count": 5,
      "id": "jMJ3JpTI_dQS",
      "metadata": {
        "execution": {
          "iopub.execute_input": "2024-05-16T20:32:03.466647Z",
          "iopub.status.busy": "2024-05-16T20:32:03.466378Z",
          "iopub.status.idle": "2024-05-16T20:32:33.267928Z",
          "shell.execute_reply": "2024-05-16T20:32:33.266810Z",
          "shell.execute_reply.started": "2024-05-16T20:32:03.466619Z"
        },
        "id": "jMJ3JpTI_dQS",
        "papermill": {
          "duration": 37.485251,
          "end_time": "2024-05-13T11:39:44.900763",
          "exception": false,
          "start_time": "2024-05-13T11:39:07.415512",
          "status": "completed"
        },
        "tags": [],
        "trusted": true
      },
      "outputs": [
        {
          "name": "stdout",
          "output_type": "stream",
          "text": [
            "WARNING:tensorflow:From c:\\Python\\Python310\\lib\\site-packages\\keras\\src\\losses.py:2976: The name tf.losses.sparse_softmax_cross_entropy is deprecated. Please use tf.compat.v1.losses.sparse_softmax_cross_entropy instead.\n",
            "\n"
          ]
        }
      ],
      "source": [
        "import numpy as np\n",
        "import tensorflow as tf\n",
        "from tensorflow.keras.preprocessing.text import Tokenizer\n",
        "from sklearn.preprocessing import LabelEncoder\n",
        "from keras.preprocessing.sequence import pad_sequences\n",
        "from keras.models import Sequential\n",
        "from keras.optimizers import Adam\n",
        "from keras.layers import Embedding, LSTM, Bidirectional, Dropout, Dense , BatchNormalization\n",
        "from keras.callbacks import ReduceLROnPlateau, EarlyStopping\n",
        "import gensim.downloader as api\n",
        "from keras import regularizers\n",
        "from tensorflow.keras.losses import sparse_categorical_crossentropy\n",
        "from sklearn.utils.class_weight import compute_class_weight\n",
        "\n"
      ]
    },
    {
      "cell_type": "markdown",
      "id": "7677fb8e",
      "metadata": {},
      "source": [
        "### Loading Dataset"
      ]
    },
    {
      "cell_type": "code",
      "execution_count": 52,
      "id": "Jc77sqCI_dQS",
      "metadata": {
        "colab": {
          "base_uri": "https://localhost:8080/"
        },
        "execution": {
          "iopub.execute_input": "2024-05-16T20:34:18.688895Z",
          "iopub.status.busy": "2024-05-16T20:34:18.688232Z",
          "iopub.status.idle": "2024-05-16T20:34:18.814989Z",
          "shell.execute_reply": "2024-05-16T20:34:18.814112Z",
          "shell.execute_reply.started": "2024-05-16T20:34:18.688863Z"
        },
        "id": "Jc77sqCI_dQS",
        "outputId": "7561e1c5-59bc-451f-8c47-8374454a51c4",
        "papermill": {
          "duration": 62.519622,
          "end_time": "2024-05-13T11:40:47.426537",
          "exception": false,
          "start_time": "2024-05-13T11:39:44.906915",
          "status": "completed"
        },
        "tags": [],
        "trusted": true
      },
      "outputs": [
        {
          "name": "stdout",
          "output_type": "stream",
          "text": [
            "50054 14576\n",
            "50054 14576\n"
          ]
        }
      ],
      "source": [
        "X_train, y_train = [], []\n",
        "X_val, y_val = [], []\n",
        "def read_data(file_path):\n",
        "    try:\n",
        "        with open(file_path, 'r', encoding='utf-8') as file:\n",
        "            lines = file.readlines()\n",
        "            for line in lines:\n",
        "                # Split the line into word and label using tab delimiter\n",
        "                parts = line.strip().split('\\t')\n",
        "                if len(parts) == 2:  # Ensure both word and label are present\n",
        "                    word, label = parts\n",
        "                    if file_path.endswith('preprocessed_data.txt'):  # Assuming training data file ends with 'train.txt'\n",
        "                        X_train.append(word)\n",
        "                        y_train.append(label)\n",
        "                    elif file_path.endswith('preprocessed_val_data.txt'):  # Assuming validation data file ends with 'val.txt'\n",
        "                        X_val.append(word)\n",
        "                        y_val.append(label)\n",
        "    except Exception as e:\n",
        "        print(f\"Error reading file {file_path}: {e}\")\n",
        "\n",
        "# Load training data\n",
        "read_data('preprocessed_data.txt')\n",
        "\n",
        "# Load validation data\n",
        "read_data('preprocessed_val_data.txt')\n",
        "\n",
        "print(len(X_train) , len(X_val))\n",
        "print(len(y_train) , len(y_val))\n"
      ]
    },
    {
      "cell_type": "markdown",
      "id": "2ffb17cf",
      "metadata": {},
      "source": [
        "### Loading Weights"
      ]
    },
    {
      "cell_type": "code",
      "execution_count": 8,
      "id": "tUyKwb8P_dQS",
      "metadata": {
        "colab": {
          "base_uri": "https://localhost:8080/"
        },
        "execution": {
          "iopub.execute_input": "2024-05-16T20:34:26.110619Z",
          "iopub.status.busy": "2024-05-16T20:34:26.109827Z",
          "iopub.status.idle": "2024-05-16T20:35:07.986983Z",
          "shell.execute_reply": "2024-05-16T20:35:07.986194Z",
          "shell.execute_reply.started": "2024-05-16T20:34:26.110589Z"
        },
        "id": "tUyKwb8P_dQS",
        "outputId": "92cabe01-07f0-4bfc-f432-b2cd704a87e5",
        "trusted": true
      },
      "outputs": [],
      "source": [
        "glove_vectors = api.load('glove-wiki-gigaword-100')"
      ]
    },
    {
      "cell_type": "code",
      "execution_count": 9,
      "id": "Cw_eTHCH_dQS",
      "metadata": {
        "execution": {
          "iopub.execute_input": "2024-05-16T20:35:14.732264Z",
          "iopub.status.busy": "2024-05-16T20:35:14.731582Z",
          "iopub.status.idle": "2024-05-16T20:35:14.736265Z",
          "shell.execute_reply": "2024-05-16T20:35:14.735298Z",
          "shell.execute_reply.started": "2024-05-16T20:35:14.732231Z"
        },
        "id": "Cw_eTHCH_dQS",
        "trusted": true
      },
      "outputs": [],
      "source": [
        "# from gensim.models.word2vec import Word2Vec"
      ]
    },
    {
      "cell_type": "code",
      "execution_count": 10,
      "id": "fZroaAJV_dQT",
      "metadata": {
        "colab": {
          "base_uri": "https://localhost:8080/"
        },
        "execution": {
          "iopub.execute_input": "2024-05-16T20:35:16.678460Z",
          "iopub.status.busy": "2024-05-16T20:35:16.677606Z",
          "iopub.status.idle": "2024-05-16T20:35:18.388356Z",
          "shell.execute_reply": "2024-05-16T20:35:18.387514Z",
          "shell.execute_reply.started": "2024-05-16T20:35:16.678426Z"
        },
        "id": "fZroaAJV_dQT",
        "outputId": "e437a81a-3a3f-43e8-f8c9-f6b9b6c61816",
        "trusted": true
      },
      "outputs": [
        {
          "data": {
            "text/plain": [
              "(233842, 1040360)"
            ]
          },
          "execution_count": 10,
          "metadata": {},
          "output_type": "execute_result"
        }
      ],
      "source": [
        "# import nltk\n",
        "# nltk.download('punkt')\n",
        "# from nltk.tokenize import word_tokenize\n",
        "# tokenized_X_train = [word_tokenize(sentence) for sentence in X_train]\n",
        "# tokenized_X_train[:5] \n",
        "\n",
        "# word2vec_model = Word2Vec(sentences=X_train, vector_size=100, window=5, min_count=5)\n",
        "# word2vec_model.train(X_train, total_examples=word2vec_model.corpus_count, epochs=word2vec_model.epochs)\n"
      ]
    },
    {
      "cell_type": "markdown",
      "id": "635126de",
      "metadata": {},
      "source": [
        "### Processing Training and Validation data"
      ]
    },
    {
      "cell_type": "code",
      "execution_count": 63,
      "id": "1hlWVcI-_dQT",
      "metadata": {
        "execution": {
          "iopub.execute_input": "2024-05-16T20:35:34.666118Z",
          "iopub.status.busy": "2024-05-16T20:35:34.665764Z",
          "iopub.status.idle": "2024-05-16T20:35:38.611008Z",
          "shell.execute_reply": "2024-05-16T20:35:38.610215Z",
          "shell.execute_reply.started": "2024-05-16T20:35:34.666087Z"
        },
        "id": "1hlWVcI-_dQT",
        "papermill": {
          "duration": 472.313199,
          "end_time": "2024-05-13T11:48:41.162833",
          "exception": false,
          "start_time": "2024-05-13T11:40:48.849634",
          "status": "completed"
        },
        "tags": [],
        "trusted": true
      },
      "outputs": [],
      "source": [
        "# Tokenization\n",
        "tokenizer = Tokenizer()\n",
        "tokenizer.fit_on_texts(X_train + X_val)\n",
        "X_train_indices = tokenizer.texts_to_sequences(X_train)\n",
        "X_val_indices = tokenizer.texts_to_sequences(X_val)\n",
        "\n",
        "# Padding sequences\n",
        "max_sequence_length = max(len(seq) for seq in X_train_indices + X_val_indices)\n",
        "X_train_padded = pad_sequences(X_train_indices, maxlen=max_sequence_length)\n",
        "X_val_padded = pad_sequences(X_val_indices, maxlen=max_sequence_length)\n",
        "\n",
        "label_encoder = LabelEncoder()\n",
        "label_encoder.fit(y_train + y_val)\n",
        "y_train_indices = label_encoder.transform(y_train)\n",
        "y_val_indices = label_encoder.transform(y_val)\n",
        "\n",
        "# Model parameters\n",
        "vocab_size = len(tokenizer.word_index) + 1\n",
        "embedding_dim = 100\n",
        "lstm_units = 256\n",
        "num_classes = len(np.unique(y_train + y_val))\n",
        "num_stacked = 3 #controls the depth of the LSTM\n",
        "\n",
        "\n",
        "# Create embedding matrix from word2vec model\n",
        "# embedding_matrix = np.zeros((vocab_size, word2vec_model.vector_size))\n",
        "# for word, i in tokenizer.word_index.items():\n",
        "#     if word in word2vec_model.raw_vocab:\n",
        "#         embedding_matrix[i] = word2vec_model[word]\n",
        "\n",
        "\n",
        "\n",
        "\n",
        "embedding_matrix = np.zeros((vocab_size, glove_vectors.vector_size))\n",
        "for word, i in tokenizer.word_index.items():\n",
        "    if word in glove_vectors:\n",
        "        embedding_matrix[i] = glove_vectors[word]\n",
        "\n"
      ]
    },
    {
      "cell_type": "markdown",
      "id": "98fa0fd1",
      "metadata": {},
      "source": [
        "### Building Model (Bidirectional LSTM Neural Network)"
      ]
    },
    {
      "cell_type": "code",
      "execution_count": null,
      "id": "53f1492d",
      "metadata": {},
      "outputs": [],
      "source": [
        "\n",
        "# Define LSTM model with additional layers and regularization\n",
        "model = Sequential()\n",
        "model.add(Embedding(input_dim=vocab_size, output_dim=embedding_dim, input_length=max_sequence_length, \n",
        "                    weights=[embedding_matrix], trainable=False))\n",
        "model.add(Bidirectional(LSTM(units=lstm_units, return_sequences=True)))\n",
        "for _ in range(num_stacked - 1):  # Stack additional LSTM layers if specified\n",
        "        model.add(Bidirectional(LSTM(lstm_units, return_sequences=True, dropout = 0.2,\n",
        "                                     recurrent_regularizer=regularizers.l2(0.01) , recurrent_activation= \"relu\")))\n",
        "model.add(Bidirectional(LSTM(units=64, return_sequences=True , recurrent_dropout= 0.1)))\n",
        "model.add(Dense(units=128, activation='tanh',  kernel_regularizer=regularizers.l2(0.01)))\n",
        "model.add(BatchNormalization())\n",
        "model.add(Dropout(0.3))  # Dropout regularization\n",
        "model.add(Bidirectional(LSTM(units=32)))\n",
        "model.add(Dense(units=64, activation='relu' ))\n",
        "model.add(BatchNormalization())\n",
        "model.add(Dropout(0.2))  # Dropout regularization\n",
        "model.add(Dense(units=32, activation='relu', kernel_regularizer=regularizers.l2(0.01)))\n",
        "model.add(BatchNormalization())\n",
        "model.add(Dropout(0.5))  # Dropout regularization\n",
        "model.add(Dense(units=num_classes, activation='softmax'))\n",
        "\n",
        "model.layers[0].set_weights([embedding_matrix])\n"
      ]
    },
    {
      "cell_type": "code",
      "execution_count": 64,
      "id": "8fad6ddf",
      "metadata": {},
      "outputs": [
        {
          "name": "stdout",
          "output_type": "stream",
          "text": [
            "Model: \"sequential_8\"\n",
            "____________________________________________________________________________\n",
            " Layer (type)                Output Shape              Param #   Trainable  \n",
            "============================================================================\n",
            " embedding_8 (Embedding)     (None, 8, 100)            1662100   N          \n",
            "                                                                            \n",
            " bidirectional_29 (Bidirect  (None, 8, 512)            731136    Y          \n",
            " ional)                                                                     \n",
            "                                                                            \n",
            " bidirectional_30 (Bidirect  (None, 8, 512)            1574912   Y          \n",
            " ional)                                                                     \n",
            "                                                                            \n",
            " bidirectional_31 (Bidirect  (None, 8, 512)            1574912   Y          \n",
            " ional)                                                                     \n",
            "                                                                            \n",
            " bidirectional_32 (Bidirect  (None, 8, 128)            295424    Y          \n",
            " ional)                                                                     \n",
            "                                                                            \n",
            " dense_31 (Dense)            (None, 8, 128)            16512     Y          \n",
            "                                                                            \n",
            " batch_normalization_12 (Ba  (None, 8, 128)            512       Y          \n",
            " tchNormalization)                                                          \n",
            "                                                                            \n",
            " dropout_14 (Dropout)        (None, 8, 128)            0         Y          \n",
            "                                                                            \n",
            " bidirectional_33 (Bidirect  (None, 64)                41216     Y          \n",
            " ional)                                                                     \n",
            "                                                                            \n",
            " dense_32 (Dense)            (None, 64)                4160      Y          \n",
            "                                                                            \n",
            " batch_normalization_13 (Ba  (None, 64)                256       Y          \n",
            " tchNormalization)                                                          \n",
            "                                                                            \n",
            " dropout_15 (Dropout)        (None, 64)                0         Y          \n",
            "                                                                            \n",
            " dense_33 (Dense)            (None, 32)                2080      Y          \n",
            "                                                                            \n",
            " batch_normalization_14 (Ba  (None, 32)                128       Y          \n",
            " tchNormalization)                                                          \n",
            "                                                                            \n",
            " dropout_16 (Dropout)        (None, 32)                0         Y          \n",
            "                                                                            \n",
            " dense_34 (Dense)            (None, 95)                3135      Y          \n",
            "                                                                            \n",
            "============================================================================\n",
            "Total params: 5906483 (22.53 MB)\n",
            "Trainable params: 4243935 (16.19 MB)\n",
            "Non-trainable params: 1662548 (6.34 MB)\n",
            "____________________________________________________________________________\n"
          ]
        }
      ],
      "source": [
        "model.summary(show_trainable=True)\n"
      ]
    },
    {
      "cell_type": "code",
      "execution_count": 66,
      "id": "fd1f3451",
      "metadata": {},
      "outputs": [],
      "source": [
        "def weighted_categorical_crossentropy(y_true, y_pred):\n",
        "    if np.unique(y_train + y_val).size != num_classes:  # Check for class imbalance\n",
        "        class_weights = compute_class_weight('balanced', classes=np.unique(y_train + y_val), y=y_train + y_val)\n",
        "        return sparse_categorical_crossentropy(y_true, y_pred, class_weight=class_weights)\n",
        "    else:\n",
        "        return sparse_categorical_crossentropy(y_true, y_pred)\n"
      ]
    },
    {
      "cell_type": "code",
      "execution_count": 67,
      "id": "BkSxr4pX_dQT",
      "metadata": {
        "execution": {
          "iopub.execute_input": "2024-05-16T20:35:45.565488Z",
          "iopub.status.busy": "2024-05-16T20:35:45.565089Z",
          "iopub.status.idle": "2024-05-16T20:35:45.586936Z",
          "shell.execute_reply": "2024-05-16T20:35:45.586215Z",
          "shell.execute_reply.started": "2024-05-16T20:35:45.565458Z"
        },
        "id": "BkSxr4pX_dQT",
        "trusted": true
      },
      "outputs": [],
      "source": [
        "# Define learning rate schedule using ReduceLROnPlateau\n",
        "lr_scheduler = ReduceLROnPlateau(monitor='val_loss', factor=0.2, patience=2, verbose=1)\n",
        "\n",
        "# Add Early Stopping\n",
        "early_stopping = EarlyStopping(monitor='val_loss', patience=5, verbose=1, restore_best_weights=True, start_from_epoch=10)\n",
        "\n",
        "# Compile model with Layer Normalization\n",
        "model.compile(optimizer=Adam(learning_rate=0.001), loss=weighted_categorical_crossentropy, metrics=['acc'])\n"
      ]
    },
    {
      "cell_type": "markdown",
      "id": "fabc3640",
      "metadata": {},
      "source": [
        "### Training the Model"
      ]
    },
    {
      "cell_type": "code",
      "execution_count": 69,
      "id": "osdSHj3B_dQT",
      "metadata": {
        "colab": {
          "base_uri": "https://localhost:8080/"
        },
        "execution": {
          "iopub.execute_input": "2024-05-16T20:35:51.036170Z",
          "iopub.status.busy": "2024-05-16T20:35:51.035795Z",
          "iopub.status.idle": "2024-05-16T20:42:23.804728Z",
          "shell.execute_reply": "2024-05-16T20:42:23.803673Z",
          "shell.execute_reply.started": "2024-05-16T20:35:51.036126Z"
        },
        "id": "osdSHj3B_dQT",
        "outputId": "3be4f8c5-4453-4956-a3c7-e18e9775bf1b",
        "trusted": true
      },
      "outputs": [
        {
          "name": "stdout",
          "output_type": "stream",
          "text": [
            "Epoch 1/50\n",
            "392/392 [==============================] - 110s 240ms/step - loss: 4.3748 - acc: 0.4442 - val_loss: 1.8352 - val_acc: 0.7230 - lr: 0.0010\n",
            "Epoch 2/50\n",
            "392/392 [==============================] - 126s 322ms/step - loss: 1.8787 - acc: 0.7314 - val_loss: 6.2495 - val_acc: 0.0150 - lr: 0.0010\n",
            "Epoch 3/50\n",
            "392/392 [==============================] - 96s 244ms/step - loss: 1.6733 - acc: 0.7381 - val_loss: 1.7942 - val_acc: 0.7230 - lr: 0.0010\n",
            "Epoch 4/50\n",
            "392/392 [==============================] - 91s 233ms/step - loss: 1.5696 - acc: 0.7417 - val_loss: 1.6981 - val_acc: 0.7230 - lr: 0.0010\n",
            "Epoch 5/50\n",
            "392/392 [==============================] - 98s 251ms/step - loss: 1.5504 - acc: 0.7414 - val_loss: 1.6839 - val_acc: 0.7417 - lr: 0.0010\n",
            "Epoch 6/50\n",
            "392/392 [==============================] - 99s 251ms/step - loss: 1.5376 - acc: 0.7421 - val_loss: 1.5245 - val_acc: 0.7336 - lr: 0.0010\n",
            "Epoch 7/50\n",
            "392/392 [==============================] - 95s 242ms/step - loss: 1.5202 - acc: 0.7430 - val_loss: 1.5885 - val_acc: 0.7230 - lr: 0.0010\n",
            "Epoch 8/50\n",
            "392/392 [==============================] - ETA: 0s - loss: 1.5068 - acc: 0.7438\n",
            "Epoch 8: ReduceLROnPlateau reducing learning rate to 0.00020000000949949026.\n",
            "392/392 [==============================] - 94s 239ms/step - loss: 1.5068 - acc: 0.7438 - val_loss: 1.5776 - val_acc: 0.7230 - lr: 0.0010\n",
            "Epoch 9/50\n",
            "392/392 [==============================] - 94s 239ms/step - loss: 1.4967 - acc: 0.7442 - val_loss: 1.4765 - val_acc: 0.7337 - lr: 2.0000e-04\n",
            "Epoch 10/50\n",
            "392/392 [==============================] - 90s 229ms/step - loss: 1.4887 - acc: 0.7450 - val_loss: 1.4855 - val_acc: 0.7392 - lr: 2.0000e-04\n",
            "Epoch 11/50\n",
            "392/392 [==============================] - 88s 226ms/step - loss: 1.4912 - acc: 0.7449 - val_loss: 1.4763 - val_acc: 0.7423 - lr: 2.0000e-04\n",
            "Epoch 12/50\n",
            "392/392 [==============================] - 88s 225ms/step - loss: 1.4824 - acc: 0.7452 - val_loss: 1.4703 - val_acc: 0.7422 - lr: 2.0000e-04\n",
            "Epoch 13/50\n",
            "392/392 [==============================] - 89s 226ms/step - loss: 1.4832 - acc: 0.7452 - val_loss: 1.4630 - val_acc: 0.7393 - lr: 2.0000e-04\n",
            "Epoch 14/50\n",
            "392/392 [==============================] - 92s 234ms/step - loss: 1.4796 - acc: 0.7452 - val_loss: 1.9302 - val_acc: 0.7420 - lr: 2.0000e-04\n",
            "Epoch 15/50\n",
            "392/392 [==============================] - ETA: 0s - loss: 1.4778 - acc: 0.7455\n",
            "Epoch 15: ReduceLROnPlateau reducing learning rate to 4.0000001899898055e-05.\n",
            "392/392 [==============================] - 88s 224ms/step - loss: 1.4778 - acc: 0.7455 - val_loss: 1.4922 - val_acc: 0.7324 - lr: 2.0000e-04\n",
            "Epoch 16/50\n",
            "392/392 [==============================] - 88s 224ms/step - loss: 1.4765 - acc: 0.7454 - val_loss: 1.4600 - val_acc: 0.7431 - lr: 4.0000e-05\n",
            "Epoch 17/50\n",
            "392/392 [==============================] - 88s 224ms/step - loss: 1.4709 - acc: 0.7458 - val_loss: 1.4558 - val_acc: 0.7429 - lr: 4.0000e-05\n",
            "Epoch 18/50\n",
            "392/392 [==============================] - 87s 223ms/step - loss: 1.4747 - acc: 0.7458 - val_loss: 1.4561 - val_acc: 0.7431 - lr: 4.0000e-05\n",
            "Epoch 19/50\n",
            "392/392 [==============================] - 87s 223ms/step - loss: 1.4722 - acc: 0.7457 - val_loss: 1.4545 - val_acc: 0.7429 - lr: 4.0000e-05\n",
            "Epoch 20/50\n",
            "392/392 [==============================] - 88s 224ms/step - loss: 1.4725 - acc: 0.7455 - val_loss: 1.4568 - val_acc: 0.7426 - lr: 4.0000e-05\n",
            "Epoch 21/50\n",
            "392/392 [==============================] - ETA: 0s - loss: 1.4734 - acc: 0.7459\n",
            "Epoch 21: ReduceLROnPlateau reducing learning rate to 8.000000525498762e-06.\n",
            "392/392 [==============================] - 88s 226ms/step - loss: 1.4734 - acc: 0.7459 - val_loss: 1.4747 - val_acc: 0.7399 - lr: 4.0000e-05\n",
            "Epoch 22/50\n",
            "392/392 [==============================] - 87s 223ms/step - loss: 1.4727 - acc: 0.7454 - val_loss: 1.4546 - val_acc: 0.7431 - lr: 8.0000e-06\n",
            "Epoch 23/50\n",
            "392/392 [==============================] - 88s 223ms/step - loss: 1.4711 - acc: 0.7464 - val_loss: 1.4539 - val_acc: 0.7431 - lr: 8.0000e-06\n",
            "Epoch 24/50\n",
            "392/392 [==============================] - 89s 226ms/step - loss: 1.4754 - acc: 0.7459 - val_loss: 1.4539 - val_acc: 0.7431 - lr: 8.0000e-06\n",
            "Epoch 25/50\n",
            "392/392 [==============================] - ETA: 0s - loss: 1.4727 - acc: 0.7457\n",
            "Epoch 25: ReduceLROnPlateau reducing learning rate to 1.6000001778593287e-06.\n",
            "392/392 [==============================] - 88s 223ms/step - loss: 1.4727 - acc: 0.7457 - val_loss: 1.4549 - val_acc: 0.7431 - lr: 8.0000e-06\n",
            "Epoch 26/50\n",
            "392/392 [==============================] - 87s 223ms/step - loss: 1.4719 - acc: 0.7459 - val_loss: 1.4542 - val_acc: 0.7431 - lr: 1.6000e-06\n",
            "Epoch 27/50\n",
            "392/392 [==============================] - 113s 288ms/step - loss: 1.4691 - acc: 0.7461 - val_loss: 1.4537 - val_acc: 0.7431 - lr: 1.6000e-06\n",
            "Epoch 28/50\n",
            "392/392 [==============================] - 102s 261ms/step - loss: 1.4707 - acc: 0.7457 - val_loss: 1.4540 - val_acc: 0.7431 - lr: 1.6000e-06\n",
            "Epoch 29/50\n",
            "392/392 [==============================] - ETA: 0s - loss: 1.4724 - acc: 0.7460\n",
            "Epoch 29: ReduceLROnPlateau reducing learning rate to 3.200000264769187e-07.\n",
            "392/392 [==============================] - 107s 272ms/step - loss: 1.4724 - acc: 0.7460 - val_loss: 1.4539 - val_acc: 0.7431 - lr: 1.6000e-06\n",
            "Epoch 30/50\n",
            "392/392 [==============================] - 90s 229ms/step - loss: 1.4725 - acc: 0.7458 - val_loss: 1.4540 - val_acc: 0.7431 - lr: 3.2000e-07\n",
            "Epoch 31/50\n",
            "392/392 [==============================] - ETA: 0s - loss: 1.4724 - acc: 0.7462\n",
            "Epoch 31: ReduceLROnPlateau reducing learning rate to 6.400000529538374e-08.\n",
            "392/392 [==============================] - 89s 227ms/step - loss: 1.4724 - acc: 0.7462 - val_loss: 1.4539 - val_acc: 0.7431 - lr: 3.2000e-07\n",
            "Epoch 32/50\n",
            "392/392 [==============================] - ETA: 0s - loss: 1.4697 - acc: 0.7458Restoring model weights from the end of the best epoch: 27.\n",
            "392/392 [==============================] - 88s 226ms/step - loss: 1.4697 - acc: 0.7458 - val_loss: 1.4541 - val_acc: 0.7431 - lr: 6.4000e-08\n",
            "Epoch 32: early stopping\n"
          ]
        }
      ],
      "source": [
        "# Train the model\n",
        "history = model.fit(X_train_padded, y_train_indices, validation_data=(X_val_padded, y_val_indices),\n",
        "                    epochs=50, batch_size=128, callbacks=[lr_scheduler, early_stopping],\n",
        "                    validation_batch_size=32, shuffle=True)\n"
      ]
    },
    {
      "cell_type": "markdown",
      "id": "1a94710a",
      "metadata": {},
      "source": [
        "### Visualizations of Training process"
      ]
    },
    {
      "cell_type": "code",
      "execution_count": 72,
      "id": "8baPpliU_dQT",
      "metadata": {
        "colab": {
          "base_uri": "https://localhost:8080/",
          "height": 927
        },
        "execution": {
          "iopub.execute_input": "2024-05-16T20:44:23.398358Z",
          "iopub.status.busy": "2024-05-16T20:44:23.397953Z",
          "iopub.status.idle": "2024-05-16T20:44:23.983587Z",
          "shell.execute_reply": "2024-05-16T20:44:23.982664Z",
          "shell.execute_reply.started": "2024-05-16T20:44:23.398324Z"
        },
        "id": "8baPpliU_dQT",
        "outputId": "d71a90a1-ac06-49f2-e921-2efe2e893e40",
        "trusted": true
      },
      "outputs": [
        {
          "data": {
            "image/png": "[encoded data removed]",
            "text/plain": [
              "<Figure size 640x480 with 1 Axes>"
            ]
          },
          "metadata": {},
          "output_type": "display_data"
        },
        {
          "data": {
            "image/png": "[encoded data removed]",
            "text/plain": [
              "<Figure size 640x480 with 1 Axes>"
            ]
          },
          "metadata": {},
          "output_type": "display_data"
        }
      ],
      "source": [
        "import matplotlib.pyplot as plt\n",
        "plt.plot(history.history['acc'])\n",
        "plt.plot(history.history['val_acc'])\n",
        "plt.title('model accuracy')\n",
        "plt.ylabel('accuracy')\n",
        "plt.xlabel('epoch')\n",
        "plt.legend(['Train Accuracy', 'Val Accuracy'], loc='upper left')\n",
        "plt.show()\n",
        "\n",
        "plt.plot(history.history['loss'])\n",
        "plt.plot(history.history['val_loss'])\n",
        "plt.title('model loss')\n",
        "plt.ylabel('loss')\n",
        "plt.xlabel('epoch')\n",
        "plt.legend(['train', 'validation'], loc='upper left')\n",
        "plt.show()"
      ]
    },
    {
      "cell_type": "markdown",
      "id": "053d232f",
      "metadata": {},
      "source": [
        "### Evaluation of Model"
      ]
    },
    {
      "cell_type": "code",
      "execution_count": 73,
      "id": "Q0M_uZOW_dQT",
      "metadata": {
        "colab": {
          "base_uri": "https://localhost:8080/"
        },
        "execution": {
          "iopub.execute_input": "2024-05-16T20:44:31.229429Z",
          "iopub.status.busy": "2024-05-16T20:44:31.228748Z",
          "iopub.status.idle": "2024-05-16T20:44:34.859970Z",
          "shell.execute_reply": "2024-05-16T20:44:34.858929Z",
          "shell.execute_reply.started": "2024-05-16T20:44:31.229393Z"
        },
        "id": "Q0M_uZOW_dQT",
        "outputId": "8b81143b-5b17-48ac-fbff-0ddbafe08b12",
        "trusted": true
      },
      "outputs": [
        {
          "name": "stdout",
          "output_type": "stream",
          "text": [
            "Evaluating model.....\n",
            "456/456 [==============================] - 10s 21ms/step - loss: 1.4537 - acc: 0.7431\n",
            "Validation Loss: 1.453677773475647, Validation Accuracy: 0.743139386177063\n",
            "\n",
            "Metrics: \n",
            "456/456 [==============================] - 15s 27ms/step\n",
            "\n",
            "Validation F1 Score: 0.6390215057234017\n",
            "Validation Recall: 0.743139407244786\n",
            "Validation Precision: 0.5607220957528464\n"
          ]
        },
        {
          "name": "stderr",
          "output_type": "stream",
          "text": [
            "c:\\Python\\Python310\\lib\\site-packages\\sklearn\\metrics\\_classification.py:1471: UndefinedMetricWarning: Precision is ill-defined and being set to 0.0 in labels with no predicted samples. Use `zero_division` parameter to control this behavior.\n",
            "  _warn_prf(average, modifier, msg_start, len(result))\n"
          ]
        }
      ],
      "source": [
        "print(\"Evaluating model.....\")\n",
        "# Evaluate the model\n",
        "loss, accuracy = model.evaluate(X_val_padded, y_val_indices)\n",
        "print(f'Validation Loss: {loss}, Validation Accuracy: {accuracy}')\n",
        "print(\"\\nMetrics: \")\n",
        "\n",
        "\n",
        "y_val_pred_prob = model.predict(X_val_padded)\n",
        "y_val_pred_classes = np.argmax(y_val_pred_prob, axis=1)\n",
        "\n",
        "from sklearn.metrics import f1_score, recall_score, precision_score\n",
        "\n",
        "# Step 3: Compute F1-score, recall, and precision\n",
        "f1 = f1_score(y_val_indices, y_val_pred_classes, average='weighted')\n",
        "recall = recall_score(y_val_indices, y_val_pred_classes, average='weighted')\n",
        "precision = precision_score(y_val_indices, y_val_pred_classes, average='weighted')\n",
        "\n",
        "print(f'\\nValidation F1 Score: {f1}')\n",
        "print(f'Validation Recall: {recall}')\n",
        "print(f'Validation Precision: {precision}')"
      ]
    },
    {
      "cell_type": "markdown",
      "id": "f16d02e9",
      "metadata": {},
      "source": [
        "### Testing Model"
      ]
    },
    {
      "cell_type": "code",
      "execution_count": 74,
      "id": "JTSEie4GFdEh",
      "metadata": {
        "colab": {
          "base_uri": "https://localhost:8080/"
        },
        "id": "JTSEie4GFdEh",
        "outputId": "86eee139-8729-4b73-ccb5-4420d1e38686"
      },
      "outputs": [
        {
          "name": "stdout",
          "output_type": "stream",
          "text": [
            "113607\n"
          ]
        }
      ],
      "source": [
        "X_test, y_test = [], []\n",
        "\n",
        "def read_test(file_path):\n",
        "    try:\n",
        "        with open(file_path, 'r', encoding='utf-8') as file:\n",
        "            lines = file.readlines()\n",
        "            for line in lines:\n",
        "                # Split the line into word and label using tab delimiter\n",
        "                parts = line.strip()\n",
        "                X_test.append(parts)\n",
        "    except Exception as e:\n",
        "        print(f\"Error reading file {file_path}: {e}\")\n",
        "\n",
        "read_test('test_set.txt')\n",
        "\n",
        "print(len(X_test))\n"
      ]
    },
    {
      "cell_type": "code",
      "execution_count": 76,
      "id": "pX-799nCNlpm",
      "metadata": {
        "colab": {
          "base_uri": "https://localhost:8080/"
        },
        "id": "pX-799nCNlpm",
        "outputId": "485847a4-d664-423d-b85f-76e063add8e4"
      },
      "outputs": [
        {
          "name": "stdout",
          "output_type": "stream",
          "text": [
            "Predicting.....\n",
            "3551/3551 [==============================] - 92s 26ms/step\n",
            "Prediciton Completed!!\n",
            "File Saved Successfully!!\n"
          ]
        }
      ],
      "source": [
        "# Tokenize and pad the test data\n",
        "# X_test = ['تعرف','صبية','فرنسي','قالتلي','أنت','مسلم','قلتل','أي']\n",
        "\n",
        "X_test_indices = tokenizer.texts_to_sequences(X_test)\n",
        "X_test_padded = pad_sequences(X_test_indices, maxlen=max_sequence_length)\n",
        "len(X_test_padded)\n",
        "# Predict the test data\n",
        "print(\"Predicting.....\")\n",
        "predictions = model.predict(X_test_padded)\n",
        "print(\"Prediciton Completed!!\")\n",
        "# If your model's output is probabilities and you need class labels, use argmax\n",
        "predicted_classes = np.argmax(predictions, axis=1)\n",
        "y_test_pred_labels = label_encoder.inverse_transform(predicted_classes)\n",
        "# Save predictions to a text file\n",
        "output_file = 'model_pred.txt'\n",
        "with open(output_file, 'w',encoding='utf-8') as f:\n",
        "    for i, prediction in enumerate(y_test_pred_labels):\n",
        "        f.write(f\"{X_test[i]}       {prediction}\\n\")\n",
        "        # print(f\"{X_test[i]} {prediction}\\n\")\n",
        "print(\"File Saved Successfully!!\")\n",
        "\n"
      ]
    }
  ],
  "metadata": {
    "accelerator": "GPU",
    "colab": {
      "gpuType": "T4",
      "provenance": []
    },
    "kaggle": {
      "accelerator": "nvidiaTeslaT4",
      "dataSources": [
        {
          "datasetId": 4929720,
          "sourceId": 8298429,
          "sourceType": "datasetVersion"
        },
        {
          "datasetId": 5001029,
          "sourceId": 8404439,
          "sourceType": "datasetVersion"
        },
        {
          "datasetId": 4945758,
          "sourceId": 8328410,
          "sourceType": "datasetVersion"
        }
      ],
      "dockerImageVersionId": 30699,
      "isGpuEnabled": true,
      "isInternetEnabled": true,
      "language": "python",
      "sourceType": "notebook"
    },
    "kernelspec": {
      "display_name": "Python 3",
      "name": "python3"
    },
    "language_info": {
      "codemirror_mode": {
        "name": "ipython",
        "version": 3
      },
      "file_extension": ".py",
      "mimetype": "text/x-python",
      "name": "python",
      "nbconvert_exporter": "python",
      "pygments_lexer": "ipython3",
      "version": "3.10.6"
    },
    "papermill": {
      "default_parameters": {},
      "duration": 610.90161,
      "end_time": "2024-05-13T11:48:46.031326",
      "environment_variables": {},
      "exception": null,
      "input_path": "__notebook__.ipynb",
      "output_path": "__notebook__.ipynb",
      "parameters": {},
      "start_time": "2024-05-13T11:38:35.129716",
      "version": "2.5.0"
    }
  },
  "nbformat": 4,
  "nbformat_minor": 5
}
